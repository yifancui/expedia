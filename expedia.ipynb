{
 "cells": [
  {
   "cell_type": "code",
   "execution_count": null,
   "id": "alternate-board",
   "metadata": {
    "collapsed": true
   },
   "outputs": [],
   "source": [
    "#! source activate recommend"
   ]
  },
  {
   "cell_type": "code",
   "execution_count": 125,
   "id": "earlier-acoustic",
   "metadata": {},
   "outputs": [],
   "source": [
    "import pandas as pd\n",
    "import numpy as np"
   ]
  },
  {
   "cell_type": "code",
   "execution_count": 126,
   "id": "brilliant-brook",
   "metadata": {},
   "outputs": [],
   "source": [
    "destinations=pd.read_csv('./Downloads/expedia-hotel-recommendations/destinations.csv')\n",
    "train=pd.read_csv('./Downloads/expedia-hotel-recommendations/train.csv')\n",
    "test=pd.read_csv('./Downloads/expedia-hotel-recommendations/test.csv')"
   ]
  },
  {
   "cell_type": "code",
   "execution_count": 4,
   "id": "designing-marketing",
   "metadata": {},
   "outputs": [
    {
     "data": {
      "text/html": [
       "<div>\n",
       "<style scoped>\n",
       "    .dataframe tbody tr th:only-of-type {\n",
       "        vertical-align: middle;\n",
       "    }\n",
       "\n",
       "    .dataframe tbody tr th {\n",
       "        vertical-align: top;\n",
       "    }\n",
       "\n",
       "    .dataframe thead th {\n",
       "        text-align: right;\n",
       "    }\n",
       "</style>\n",
       "<table border=\"1\" class=\"dataframe\">\n",
       "  <thead>\n",
       "    <tr style=\"text-align: right;\">\n",
       "      <th></th>\n",
       "      <th>date_time</th>\n",
       "      <th>site_name</th>\n",
       "      <th>posa_continent</th>\n",
       "      <th>user_location_country</th>\n",
       "      <th>user_location_region</th>\n",
       "      <th>user_location_city</th>\n",
       "      <th>orig_destination_distance</th>\n",
       "      <th>user_id</th>\n",
       "      <th>is_mobile</th>\n",
       "      <th>is_package</th>\n",
       "      <th>...</th>\n",
       "      <th>srch_children_cnt</th>\n",
       "      <th>srch_rm_cnt</th>\n",
       "      <th>srch_destination_id</th>\n",
       "      <th>srch_destination_type_id</th>\n",
       "      <th>is_booking</th>\n",
       "      <th>cnt</th>\n",
       "      <th>hotel_continent</th>\n",
       "      <th>hotel_country</th>\n",
       "      <th>hotel_market</th>\n",
       "      <th>hotel_cluster</th>\n",
       "    </tr>\n",
       "  </thead>\n",
       "  <tbody>\n",
       "    <tr>\n",
       "      <th>0</th>\n",
       "      <td>2014-08-11 07:46:59</td>\n",
       "      <td>2</td>\n",
       "      <td>3</td>\n",
       "      <td>66</td>\n",
       "      <td>348</td>\n",
       "      <td>48862</td>\n",
       "      <td>2234.2641</td>\n",
       "      <td>12</td>\n",
       "      <td>0</td>\n",
       "      <td>1</td>\n",
       "      <td>...</td>\n",
       "      <td>0</td>\n",
       "      <td>1</td>\n",
       "      <td>8250</td>\n",
       "      <td>1</td>\n",
       "      <td>0</td>\n",
       "      <td>3</td>\n",
       "      <td>2</td>\n",
       "      <td>50</td>\n",
       "      <td>628</td>\n",
       "      <td>1</td>\n",
       "    </tr>\n",
       "    <tr>\n",
       "      <th>1</th>\n",
       "      <td>2014-08-11 08:22:12</td>\n",
       "      <td>2</td>\n",
       "      <td>3</td>\n",
       "      <td>66</td>\n",
       "      <td>348</td>\n",
       "      <td>48862</td>\n",
       "      <td>2234.2641</td>\n",
       "      <td>12</td>\n",
       "      <td>0</td>\n",
       "      <td>1</td>\n",
       "      <td>...</td>\n",
       "      <td>0</td>\n",
       "      <td>1</td>\n",
       "      <td>8250</td>\n",
       "      <td>1</td>\n",
       "      <td>1</td>\n",
       "      <td>1</td>\n",
       "      <td>2</td>\n",
       "      <td>50</td>\n",
       "      <td>628</td>\n",
       "      <td>1</td>\n",
       "    </tr>\n",
       "    <tr>\n",
       "      <th>2</th>\n",
       "      <td>2014-08-11 08:24:33</td>\n",
       "      <td>2</td>\n",
       "      <td>3</td>\n",
       "      <td>66</td>\n",
       "      <td>348</td>\n",
       "      <td>48862</td>\n",
       "      <td>2234.2641</td>\n",
       "      <td>12</td>\n",
       "      <td>0</td>\n",
       "      <td>0</td>\n",
       "      <td>...</td>\n",
       "      <td>0</td>\n",
       "      <td>1</td>\n",
       "      <td>8250</td>\n",
       "      <td>1</td>\n",
       "      <td>0</td>\n",
       "      <td>1</td>\n",
       "      <td>2</td>\n",
       "      <td>50</td>\n",
       "      <td>628</td>\n",
       "      <td>1</td>\n",
       "    </tr>\n",
       "    <tr>\n",
       "      <th>3</th>\n",
       "      <td>2014-08-09 18:05:16</td>\n",
       "      <td>2</td>\n",
       "      <td>3</td>\n",
       "      <td>66</td>\n",
       "      <td>442</td>\n",
       "      <td>35390</td>\n",
       "      <td>913.1932</td>\n",
       "      <td>93</td>\n",
       "      <td>0</td>\n",
       "      <td>0</td>\n",
       "      <td>...</td>\n",
       "      <td>0</td>\n",
       "      <td>1</td>\n",
       "      <td>14984</td>\n",
       "      <td>1</td>\n",
       "      <td>0</td>\n",
       "      <td>1</td>\n",
       "      <td>2</td>\n",
       "      <td>50</td>\n",
       "      <td>1457</td>\n",
       "      <td>80</td>\n",
       "    </tr>\n",
       "    <tr>\n",
       "      <th>4</th>\n",
       "      <td>2014-08-09 18:08:18</td>\n",
       "      <td>2</td>\n",
       "      <td>3</td>\n",
       "      <td>66</td>\n",
       "      <td>442</td>\n",
       "      <td>35390</td>\n",
       "      <td>913.6259</td>\n",
       "      <td>93</td>\n",
       "      <td>0</td>\n",
       "      <td>0</td>\n",
       "      <td>...</td>\n",
       "      <td>0</td>\n",
       "      <td>1</td>\n",
       "      <td>14984</td>\n",
       "      <td>1</td>\n",
       "      <td>0</td>\n",
       "      <td>1</td>\n",
       "      <td>2</td>\n",
       "      <td>50</td>\n",
       "      <td>1457</td>\n",
       "      <td>21</td>\n",
       "    </tr>\n",
       "  </tbody>\n",
       "</table>\n",
       "<p>5 rows × 24 columns</p>\n",
       "</div>"
      ],
      "text/plain": [
       "             date_time  site_name  posa_continent  user_location_country  \\\n",
       "0  2014-08-11 07:46:59          2               3                     66   \n",
       "1  2014-08-11 08:22:12          2               3                     66   \n",
       "2  2014-08-11 08:24:33          2               3                     66   \n",
       "3  2014-08-09 18:05:16          2               3                     66   \n",
       "4  2014-08-09 18:08:18          2               3                     66   \n",
       "\n",
       "   user_location_region  user_location_city  orig_destination_distance  \\\n",
       "0                   348               48862                  2234.2641   \n",
       "1                   348               48862                  2234.2641   \n",
       "2                   348               48862                  2234.2641   \n",
       "3                   442               35390                   913.1932   \n",
       "4                   442               35390                   913.6259   \n",
       "\n",
       "   user_id  is_mobile  is_package  ...  srch_children_cnt srch_rm_cnt  \\\n",
       "0       12          0           1  ...                  0           1   \n",
       "1       12          0           1  ...                  0           1   \n",
       "2       12          0           0  ...                  0           1   \n",
       "3       93          0           0  ...                  0           1   \n",
       "4       93          0           0  ...                  0           1   \n",
       "\n",
       "  srch_destination_id  srch_destination_type_id  is_booking  cnt  \\\n",
       "0                8250                         1           0    3   \n",
       "1                8250                         1           1    1   \n",
       "2                8250                         1           0    1   \n",
       "3               14984                         1           0    1   \n",
       "4               14984                         1           0    1   \n",
       "\n",
       "   hotel_continent  hotel_country  hotel_market  hotel_cluster  \n",
       "0                2             50           628              1  \n",
       "1                2             50           628              1  \n",
       "2                2             50           628              1  \n",
       "3                2             50          1457             80  \n",
       "4                2             50          1457             21  \n",
       "\n",
       "[5 rows x 24 columns]"
      ]
     },
     "execution_count": 4,
     "metadata": {},
     "output_type": "execute_result"
    }
   ],
   "source": [
    "train.head()"
   ]
  },
  {
   "cell_type": "code",
   "execution_count": 8,
   "id": "broken-effort",
   "metadata": {},
   "outputs": [
    {
     "data": {
      "text/plain": [
       "date_time                    25419546\n",
       "site_name                          45\n",
       "posa_continent                      5\n",
       "user_location_country             237\n",
       "user_location_region             1008\n",
       "user_location_city              50447\n",
       "orig_destination_distance     8495289\n",
       "user_id                       1198786\n",
       "is_mobile                           2\n",
       "is_package                          2\n",
       "channel                            11\n",
       "srch_ci                          1269\n",
       "srch_co                          1262\n",
       "srch_adults_cnt                    10\n",
       "srch_children_cnt                  10\n",
       "srch_rm_cnt                         9\n",
       "srch_destination_id             59455\n",
       "srch_destination_type_id           10\n",
       "is_booking                          2\n",
       "cnt                               104\n",
       "hotel_continent                     7\n",
       "hotel_country                     213\n",
       "hotel_market                     2118\n",
       "hotel_cluster                     100\n",
       "dtype: int64"
      ]
     },
     "execution_count": 8,
     "metadata": {},
     "output_type": "execute_result"
    }
   ],
   "source": [
    "train.apply(lambda x:x.nunique())"
   ]
  },
  {
   "cell_type": "code",
   "execution_count": 91,
   "id": "wanted-symphony",
   "metadata": {},
   "outputs": [
    {
     "data": {
      "text/plain": [
       "<AxesSubplot:>"
      ]
     },
     "execution_count": 91,
     "metadata": {},
     "output_type": "execute_result"
    },
    {
     "data": {
      "image/png": "[encoded data removed]",
      "text/plain": [
       "<Figure size 720x720 with 2 Axes>"
      ]
     },
     "metadata": {
      "needs_background": "light"
     },
     "output_type": "display_data"
    }
   ],
   "source": [
    "import seaborn as sns\n",
    "import matplotlib.pyplot as plt\n",
    "plt.figure(figsize=(10,10))\n",
    "sns.heatmap(train.corr())"
   ]
  },
  {
   "cell_type": "code",
   "execution_count": 127,
   "id": "pointed-italy",
   "metadata": {},
   "outputs": [],
   "source": [
    "train['date_time']=pd.to_datetime(train['date_time'])\n",
    "test['date_time']=pd.to_datetime(test['date_time'])\n"
   ]
  },
  {
   "cell_type": "code",
   "execution_count": 128,
   "id": "bulgarian-factory",
   "metadata": {},
   "outputs": [],
   "source": [
    "train['srch_ci']=pd.to_datetime(train['srch_ci'],errors='coerce')\n",
    "test['srch_ci']=pd.to_datetime(test['srch_ci'],errors='coerce')\n",
    "train['srch_co']=pd.to_datetime(train['srch_co'],errors='coerce')\n",
    "test['srch_co']=pd.to_datetime(test['srch_co'],errors='coerce')\n",
    "train['before_ch']=(train['srch_ci']-train['date_time']).dt.days\n",
    "train['stay']=(train['srch_co']-train['srch_ci']).dt.days\n",
    "test['before_ch']=(test['srch_ci']-test['date_time']).dt.days\n",
    "test['stay']=(test['srch_co']-test['srch_ci']).dt.days\n",
    "train['month_ch']=train['srch_ci'].dt.month\n",
    "#train['day_ch']=train['srch_ci'].dt.day\n",
    "train['weekday_ch']=train['srch_ci'].dt.weekday\n",
    "test['month_ch']=test['srch_ci'].dt.month\n",
    "#test['day_ch']=test['srch_ci'].dt.day\n",
    "test['weekday_ch']=test['srch_ci'].dt.weekday"
   ]
  },
  {
   "cell_type": "code",
   "execution_count": 6,
   "id": "subsequent-finish",
   "metadata": {},
   "outputs": [
    {
     "data": {
      "text/html": [
       "<div>\n",
       "<style scoped>\n",
       "    .dataframe tbody tr th:only-of-type {\n",
       "        vertical-align: middle;\n",
       "    }\n",
       "\n",
       "    .dataframe tbody tr th {\n",
       "        vertical-align: top;\n",
       "    }\n",
       "\n",
       "    .dataframe thead th {\n",
       "        text-align: right;\n",
       "    }\n",
       "</style>\n",
       "<table border=\"1\" class=\"dataframe\">\n",
       "  <thead>\n",
       "    <tr style=\"text-align: right;\">\n",
       "      <th></th>\n",
       "      <th>id</th>\n",
       "      <th>date_time</th>\n",
       "      <th>site_name</th>\n",
       "      <th>posa_continent</th>\n",
       "      <th>user_location_country</th>\n",
       "      <th>user_location_region</th>\n",
       "      <th>user_location_city</th>\n",
       "      <th>orig_destination_distance</th>\n",
       "      <th>user_id</th>\n",
       "      <th>is_mobile</th>\n",
       "      <th>...</th>\n",
       "      <th>srch_rm_cnt</th>\n",
       "      <th>srch_destination_id</th>\n",
       "      <th>srch_destination_type_id</th>\n",
       "      <th>hotel_continent</th>\n",
       "      <th>hotel_country</th>\n",
       "      <th>hotel_market</th>\n",
       "      <th>before_ch</th>\n",
       "      <th>stay</th>\n",
       "      <th>month_ch</th>\n",
       "      <th>weekday_ch</th>\n",
       "    </tr>\n",
       "  </thead>\n",
       "  <tbody>\n",
       "    <tr>\n",
       "      <th>0</th>\n",
       "      <td>0</td>\n",
       "      <td>2015-09-03 17:09:54</td>\n",
       "      <td>2</td>\n",
       "      <td>3</td>\n",
       "      <td>66</td>\n",
       "      <td>174</td>\n",
       "      <td>37449</td>\n",
       "      <td>5539.0567</td>\n",
       "      <td>1</td>\n",
       "      <td>1</td>\n",
       "      <td>...</td>\n",
       "      <td>1</td>\n",
       "      <td>12243</td>\n",
       "      <td>6</td>\n",
       "      <td>6</td>\n",
       "      <td>204</td>\n",
       "      <td>27</td>\n",
       "      <td>258.0</td>\n",
       "      <td>4.0</td>\n",
       "      <td>5.0</td>\n",
       "      <td>3.0</td>\n",
       "    </tr>\n",
       "    <tr>\n",
       "      <th>1</th>\n",
       "      <td>1</td>\n",
       "      <td>2015-09-24 17:38:35</td>\n",
       "      <td>2</td>\n",
       "      <td>3</td>\n",
       "      <td>66</td>\n",
       "      <td>174</td>\n",
       "      <td>37449</td>\n",
       "      <td>5873.2923</td>\n",
       "      <td>1</td>\n",
       "      <td>1</td>\n",
       "      <td>...</td>\n",
       "      <td>1</td>\n",
       "      <td>14474</td>\n",
       "      <td>7</td>\n",
       "      <td>6</td>\n",
       "      <td>204</td>\n",
       "      <td>1540</td>\n",
       "      <td>230.0</td>\n",
       "      <td>3.0</td>\n",
       "      <td>5.0</td>\n",
       "      <td>3.0</td>\n",
       "    </tr>\n",
       "    <tr>\n",
       "      <th>2</th>\n",
       "      <td>2</td>\n",
       "      <td>2015-06-07 15:53:02</td>\n",
       "      <td>2</td>\n",
       "      <td>3</td>\n",
       "      <td>66</td>\n",
       "      <td>142</td>\n",
       "      <td>17440</td>\n",
       "      <td>3975.9776</td>\n",
       "      <td>20</td>\n",
       "      <td>0</td>\n",
       "      <td>...</td>\n",
       "      <td>1</td>\n",
       "      <td>11353</td>\n",
       "      <td>1</td>\n",
       "      <td>2</td>\n",
       "      <td>50</td>\n",
       "      <td>699</td>\n",
       "      <td>48.0</td>\n",
       "      <td>1.0</td>\n",
       "      <td>7.0</td>\n",
       "      <td>6.0</td>\n",
       "    </tr>\n",
       "    <tr>\n",
       "      <th>3</th>\n",
       "      <td>3</td>\n",
       "      <td>2015-09-14 14:49:10</td>\n",
       "      <td>2</td>\n",
       "      <td>3</td>\n",
       "      <td>66</td>\n",
       "      <td>258</td>\n",
       "      <td>34156</td>\n",
       "      <td>1508.5975</td>\n",
       "      <td>28</td>\n",
       "      <td>0</td>\n",
       "      <td>...</td>\n",
       "      <td>1</td>\n",
       "      <td>8250</td>\n",
       "      <td>1</td>\n",
       "      <td>2</td>\n",
       "      <td>50</td>\n",
       "      <td>628</td>\n",
       "      <td>-1.0</td>\n",
       "      <td>2.0</td>\n",
       "      <td>9.0</td>\n",
       "      <td>0.0</td>\n",
       "    </tr>\n",
       "    <tr>\n",
       "      <th>4</th>\n",
       "      <td>4</td>\n",
       "      <td>2015-07-17 09:32:04</td>\n",
       "      <td>2</td>\n",
       "      <td>3</td>\n",
       "      <td>66</td>\n",
       "      <td>467</td>\n",
       "      <td>36345</td>\n",
       "      <td>66.7913</td>\n",
       "      <td>50</td>\n",
       "      <td>0</td>\n",
       "      <td>...</td>\n",
       "      <td>1</td>\n",
       "      <td>11812</td>\n",
       "      <td>1</td>\n",
       "      <td>2</td>\n",
       "      <td>50</td>\n",
       "      <td>538</td>\n",
       "      <td>4.0</td>\n",
       "      <td>1.0</td>\n",
       "      <td>7.0</td>\n",
       "      <td>2.0</td>\n",
       "    </tr>\n",
       "  </tbody>\n",
       "</table>\n",
       "<p>5 rows × 26 columns</p>\n",
       "</div>"
      ],
      "text/plain": [
       "   id           date_time  site_name  posa_continent  user_location_country  \\\n",
       "0   0 2015-09-03 17:09:54          2               3                     66   \n",
       "1   1 2015-09-24 17:38:35          2               3                     66   \n",
       "2   2 2015-06-07 15:53:02          2               3                     66   \n",
       "3   3 2015-09-14 14:49:10          2               3                     66   \n",
       "4   4 2015-07-17 09:32:04          2               3                     66   \n",
       "\n",
       "   user_location_region  user_location_city  orig_destination_distance  \\\n",
       "0                   174               37449                  5539.0567   \n",
       "1                   174               37449                  5873.2923   \n",
       "2                   142               17440                  3975.9776   \n",
       "3                   258               34156                  1508.5975   \n",
       "4                   467               36345                    66.7913   \n",
       "\n",
       "   user_id  is_mobile  ...  srch_rm_cnt  srch_destination_id  \\\n",
       "0        1          1  ...            1                12243   \n",
       "1        1          1  ...            1                14474   \n",
       "2       20          0  ...            1                11353   \n",
       "3       28          0  ...            1                 8250   \n",
       "4       50          0  ...            1                11812   \n",
       "\n",
       "  srch_destination_type_id hotel_continent  hotel_country  hotel_market  \\\n",
       "0                        6               6            204            27   \n",
       "1                        7               6            204          1540   \n",
       "2                        1               2             50           699   \n",
       "3                        1               2             50           628   \n",
       "4                        1               2             50           538   \n",
       "\n",
       "   before_ch  stay  month_ch  weekday_ch  \n",
       "0      258.0   4.0       5.0         3.0  \n",
       "1      230.0   3.0       5.0         3.0  \n",
       "2       48.0   1.0       7.0         6.0  \n",
       "3       -1.0   2.0       9.0         0.0  \n",
       "4        4.0   1.0       7.0         2.0  \n",
       "\n",
       "[5 rows x 26 columns]"
      ]
     },
     "execution_count": 6,
     "metadata": {},
     "output_type": "execute_result"
    }
   ],
   "source": [
    "test.head()"
   ]
  },
  {
   "cell_type": "code",
   "execution_count": 129,
   "id": "diagnostic-composition",
   "metadata": {},
   "outputs": [],
   "source": [
    "#train['year']=train['date_time'].dt.year\n",
    "train['month']=train['date_time'].dt.month\n",
    "train['weekday']=train['date_time'].dt.weekday\n",
    "test['month']=test['date_time'].dt.month\n",
    "test['weekday']=test['date_time'].dt.weekday"
   ]
  },
  {
   "cell_type": "code",
   "execution_count": 6,
   "id": "alive-seafood",
   "metadata": {},
   "outputs": [],
   "source": [
    "# train=train[train['is_booking']==1]"
   ]
  },
  {
   "cell_type": "code",
   "execution_count": 130,
   "id": "pretty-damages",
   "metadata": {},
   "outputs": [],
   "source": [
    "#train=train.sort_values(['date_time'])"
   ]
  },
  {
   "cell_type": "code",
   "execution_count": 131,
   "id": "pleased-italian",
   "metadata": {},
   "outputs": [
    {
     "data": {
      "text/plain": [
       "((37670293, 30), (2528243, 28))"
      ]
     },
     "execution_count": 131,
     "metadata": {},
     "output_type": "execute_result"
    }
   ],
   "source": [
    "train.shape,test.shape"
   ]
  },
  {
   "cell_type": "code",
   "execution_count": 132,
   "id": "further-interaction",
   "metadata": {},
   "outputs": [],
   "source": [
    "train['quarter']=train['date_time'].dt.quarter\n",
    "train['day']=train['date_time'].dt.day\n",
    "test['quarter']=test['date_time'].dt.quarter\n",
    "test['day']=test['date_time'].dt.day"
   ]
  },
  {
   "cell_type": "code",
   "execution_count": 128,
   "id": "changing-examination",
   "metadata": {
    "collapsed": true
   },
   "outputs": [],
   "source": [
    "#a.shape,b.shape,c.shape,d.shape"
   ]
  },
  {
   "cell_type": "code",
   "execution_count": null,
   "id": "related-tunisia",
   "metadata": {
    "collapsed": true
   },
   "outputs": [],
   "source": []
  },
  {
   "cell_type": "code",
   "execution_count": null,
   "id": "greenhouse-monroe",
   "metadata": {
    "collapsed": true
   },
   "outputs": [],
   "source": []
  },
  {
   "cell_type": "code",
   "execution_count": 95,
   "id": "valuable-inclusion",
   "metadata": {},
   "outputs": [
    {
     "data": {
      "text/plain": [
       "Index(['date_time', 'site_name', 'posa_continent', 'user_location_country',\n",
       "       'user_location_region', 'user_location_city',\n",
       "       'orig_destination_distance', 'user_id', 'is_mobile', 'is_package',\n",
       "       'channel', 'srch_ci', 'srch_co', 'srch_adults_cnt', 'srch_children_cnt',\n",
       "       'srch_rm_cnt', 'srch_destination_id', 'srch_destination_type_id',\n",
       "       'is_booking', 'cnt', 'hotel_continent', 'hotel_country', 'hotel_market',\n",
       "       'hotel_cluster', 'before_ch', 'stay', 'month_ch', 'weekday_ch', 'month',\n",
       "       'weekday'],\n",
       "      dtype='object')"
      ]
     },
     "execution_count": 95,
     "metadata": {},
     "output_type": "execute_result"
    }
   ],
   "source": [
    "train.columns"
   ]
  },
  {
   "cell_type": "code",
   "execution_count": 99,
   "id": "alternate-hungarian",
   "metadata": {},
   "outputs": [
    {
     "data": {
      "text/html": [
       "<div>\n",
       "<style scoped>\n",
       "    .dataframe tbody tr th:only-of-type {\n",
       "        vertical-align: middle;\n",
       "    }\n",
       "\n",
       "    .dataframe tbody tr th {\n",
       "        vertical-align: top;\n",
       "    }\n",
       "\n",
       "    .dataframe thead th {\n",
       "        text-align: right;\n",
       "    }\n",
       "</style>\n",
       "<table border=\"1\" class=\"dataframe\">\n",
       "  <thead>\n",
       "    <tr style=\"text-align: right;\">\n",
       "      <th></th>\n",
       "      <th>site_name</th>\n",
       "      <th>posa_continent</th>\n",
       "      <th>user_location_country</th>\n",
       "      <th>user_location_region</th>\n",
       "      <th>user_location_city</th>\n",
       "      <th>orig_destination_distance</th>\n",
       "      <th>srch_destination_id</th>\n",
       "      <th>srch_destination_type_id</th>\n",
       "      <th>is_booking</th>\n",
       "      <th>cnt</th>\n",
       "      <th>hotel_continent</th>\n",
       "      <th>hotel_country</th>\n",
       "      <th>hotel_market</th>\n",
       "      <th>hotel_cluster</th>\n",
       "    </tr>\n",
       "  </thead>\n",
       "  <tbody>\n",
       "    <tr>\n",
       "      <th>site_name</th>\n",
       "      <td>1.000000</td>\n",
       "      <td>-0.622647</td>\n",
       "      <td>0.200815</td>\n",
       "      <td>0.163428</td>\n",
       "      <td>0.001760</td>\n",
       "      <td>0.026644</td>\n",
       "      <td>0.029597</td>\n",
       "      <td>-0.009038</td>\n",
       "      <td>NaN</td>\n",
       "      <td>0.004404</td>\n",
       "      <td>0.251485</td>\n",
       "      <td>0.293636</td>\n",
       "      <td>-0.061258</td>\n",
       "      <td>-0.012063</td>\n",
       "    </tr>\n",
       "    <tr>\n",
       "      <th>posa_continent</th>\n",
       "      <td>-0.622647</td>\n",
       "      <td>1.000000</td>\n",
       "      <td>0.168969</td>\n",
       "      <td>-0.079464</td>\n",
       "      <td>0.025726</td>\n",
       "      <td>0.026857</td>\n",
       "      <td>-0.005629</td>\n",
       "      <td>0.038719</td>\n",
       "      <td>NaN</td>\n",
       "      <td>-0.005987</td>\n",
       "      <td>-0.387122</td>\n",
       "      <td>-0.138369</td>\n",
       "      <td>0.045680</td>\n",
       "      <td>0.002089</td>\n",
       "    </tr>\n",
       "    <tr>\n",
       "      <th>user_location_country</th>\n",
       "      <td>0.200815</td>\n",
       "      <td>0.168969</td>\n",
       "      <td>1.000000</td>\n",
       "      <td>0.042852</td>\n",
       "      <td>0.113983</td>\n",
       "      <td>0.037816</td>\n",
       "      <td>0.005689</td>\n",
       "      <td>0.024697</td>\n",
       "      <td>NaN</td>\n",
       "      <td>-0.002128</td>\n",
       "      <td>-0.058440</td>\n",
       "      <td>0.195702</td>\n",
       "      <td>0.010047</td>\n",
       "      <td>-0.014050</td>\n",
       "    </tr>\n",
       "    <tr>\n",
       "      <th>user_location_region</th>\n",
       "      <td>0.163428</td>\n",
       "      <td>-0.079464</td>\n",
       "      <td>0.042852</td>\n",
       "      <td>1.000000</td>\n",
       "      <td>0.129766</td>\n",
       "      <td>0.133761</td>\n",
       "      <td>0.016076</td>\n",
       "      <td>0.009383</td>\n",
       "      <td>NaN</td>\n",
       "      <td>-0.006459</td>\n",
       "      <td>0.072771</td>\n",
       "      <td>-0.060106</td>\n",
       "      <td>0.030071</td>\n",
       "      <td>0.002792</td>\n",
       "    </tr>\n",
       "    <tr>\n",
       "      <th>user_location_city</th>\n",
       "      <td>0.001760</td>\n",
       "      <td>0.025726</td>\n",
       "      <td>0.113983</td>\n",
       "      <td>0.129766</td>\n",
       "      <td>1.000000</td>\n",
       "      <td>0.014661</td>\n",
       "      <td>-0.000681</td>\n",
       "      <td>0.000359</td>\n",
       "      <td>NaN</td>\n",
       "      <td>-0.001980</td>\n",
       "      <td>0.010582</td>\n",
       "      <td>0.002164</td>\n",
       "      <td>0.002651</td>\n",
       "      <td>-0.000628</td>\n",
       "    </tr>\n",
       "    <tr>\n",
       "      <th>orig_destination_distance</th>\n",
       "      <td>0.026644</td>\n",
       "      <td>0.026857</td>\n",
       "      <td>0.037816</td>\n",
       "      <td>0.133761</td>\n",
       "      <td>0.014661</td>\n",
       "      <td>1.000000</td>\n",
       "      <td>-0.028688</td>\n",
       "      <td>-0.027779</td>\n",
       "      <td>NaN</td>\n",
       "      <td>0.011110</td>\n",
       "      <td>0.437181</td>\n",
       "      <td>0.216675</td>\n",
       "      <td>-0.062817</td>\n",
       "      <td>0.021587</td>\n",
       "    </tr>\n",
       "    <tr>\n",
       "      <th>srch_destination_id</th>\n",
       "      <td>0.029597</td>\n",
       "      <td>-0.005629</td>\n",
       "      <td>0.005689</td>\n",
       "      <td>0.016076</td>\n",
       "      <td>-0.000681</td>\n",
       "      <td>-0.028688</td>\n",
       "      <td>1.000000</td>\n",
       "      <td>0.426388</td>\n",
       "      <td>NaN</td>\n",
       "      <td>-0.002098</td>\n",
       "      <td>0.028016</td>\n",
       "      <td>0.043687</td>\n",
       "      <td>0.081689</td>\n",
       "      <td>-0.001726</td>\n",
       "    </tr>\n",
       "    <tr>\n",
       "      <th>srch_destination_type_id</th>\n",
       "      <td>-0.009038</td>\n",
       "      <td>0.038719</td>\n",
       "      <td>0.024697</td>\n",
       "      <td>0.009383</td>\n",
       "      <td>0.000359</td>\n",
       "      <td>-0.027779</td>\n",
       "      <td>0.426388</td>\n",
       "      <td>1.000000</td>\n",
       "      <td>NaN</td>\n",
       "      <td>-0.005828</td>\n",
       "      <td>-0.019733</td>\n",
       "      <td>-0.009547</td>\n",
       "      <td>0.041051</td>\n",
       "      <td>-0.020272</td>\n",
       "    </tr>\n",
       "    <tr>\n",
       "      <th>is_booking</th>\n",
       "      <td>NaN</td>\n",
       "      <td>NaN</td>\n",
       "      <td>NaN</td>\n",
       "      <td>NaN</td>\n",
       "      <td>NaN</td>\n",
       "      <td>NaN</td>\n",
       "      <td>NaN</td>\n",
       "      <td>NaN</td>\n",
       "      <td>NaN</td>\n",
       "      <td>NaN</td>\n",
       "      <td>NaN</td>\n",
       "      <td>NaN</td>\n",
       "      <td>NaN</td>\n",
       "      <td>NaN</td>\n",
       "    </tr>\n",
       "    <tr>\n",
       "      <th>cnt</th>\n",
       "      <td>0.004404</td>\n",
       "      <td>-0.005987</td>\n",
       "      <td>-0.002128</td>\n",
       "      <td>-0.006459</td>\n",
       "      <td>-0.001980</td>\n",
       "      <td>0.011110</td>\n",
       "      <td>-0.002098</td>\n",
       "      <td>-0.005828</td>\n",
       "      <td>NaN</td>\n",
       "      <td>1.000000</td>\n",
       "      <td>0.006367</td>\n",
       "      <td>0.001189</td>\n",
       "      <td>0.000643</td>\n",
       "      <td>-0.001263</td>\n",
       "    </tr>\n",
       "    <tr>\n",
       "      <th>hotel_continent</th>\n",
       "      <td>0.251485</td>\n",
       "      <td>-0.387122</td>\n",
       "      <td>-0.058440</td>\n",
       "      <td>0.072771</td>\n",
       "      <td>0.010582</td>\n",
       "      <td>0.437181</td>\n",
       "      <td>0.028016</td>\n",
       "      <td>-0.019733</td>\n",
       "      <td>NaN</td>\n",
       "      <td>0.006367</td>\n",
       "      <td>1.000000</td>\n",
       "      <td>0.287778</td>\n",
       "      <td>-0.081814</td>\n",
       "      <td>-0.002447</td>\n",
       "    </tr>\n",
       "    <tr>\n",
       "      <th>hotel_country</th>\n",
       "      <td>0.293636</td>\n",
       "      <td>-0.138369</td>\n",
       "      <td>0.195702</td>\n",
       "      <td>-0.060106</td>\n",
       "      <td>0.002164</td>\n",
       "      <td>0.216675</td>\n",
       "      <td>0.043687</td>\n",
       "      <td>-0.009547</td>\n",
       "      <td>NaN</td>\n",
       "      <td>0.001189</td>\n",
       "      <td>0.287778</td>\n",
       "      <td>1.000000</td>\n",
       "      <td>0.009767</td>\n",
       "      <td>-0.011053</td>\n",
       "    </tr>\n",
       "    <tr>\n",
       "      <th>hotel_market</th>\n",
       "      <td>-0.061258</td>\n",
       "      <td>0.045680</td>\n",
       "      <td>0.010047</td>\n",
       "      <td>0.030071</td>\n",
       "      <td>0.002651</td>\n",
       "      <td>-0.062817</td>\n",
       "      <td>0.081689</td>\n",
       "      <td>0.041051</td>\n",
       "      <td>NaN</td>\n",
       "      <td>0.000643</td>\n",
       "      <td>-0.081814</td>\n",
       "      <td>0.009767</td>\n",
       "      <td>1.000000</td>\n",
       "      <td>0.035513</td>\n",
       "    </tr>\n",
       "    <tr>\n",
       "      <th>hotel_cluster</th>\n",
       "      <td>-0.012063</td>\n",
       "      <td>0.002089</td>\n",
       "      <td>-0.014050</td>\n",
       "      <td>0.002792</td>\n",
       "      <td>-0.000628</td>\n",
       "      <td>0.021587</td>\n",
       "      <td>-0.001726</td>\n",
       "      <td>-0.020272</td>\n",
       "      <td>NaN</td>\n",
       "      <td>-0.001263</td>\n",
       "      <td>-0.002447</td>\n",
       "      <td>-0.011053</td>\n",
       "      <td>0.035513</td>\n",
       "      <td>1.000000</td>\n",
       "    </tr>\n",
       "  </tbody>\n",
       "</table>\n",
       "</div>"
      ],
      "text/plain": [
       "                           site_name  posa_continent  user_location_country  \\\n",
       "site_name                   1.000000       -0.622647               0.200815   \n",
       "posa_continent             -0.622647        1.000000               0.168969   \n",
       "user_location_country       0.200815        0.168969               1.000000   \n",
       "user_location_region        0.163428       -0.079464               0.042852   \n",
       "user_location_city          0.001760        0.025726               0.113983   \n",
       "orig_destination_distance   0.026644        0.026857               0.037816   \n",
       "srch_destination_id         0.029597       -0.005629               0.005689   \n",
       "srch_destination_type_id   -0.009038        0.038719               0.024697   \n",
       "is_booking                       NaN             NaN                    NaN   \n",
       "cnt                         0.004404       -0.005987              -0.002128   \n",
       "hotel_continent             0.251485       -0.387122              -0.058440   \n",
       "hotel_country               0.293636       -0.138369               0.195702   \n",
       "hotel_market               -0.061258        0.045680               0.010047   \n",
       "hotel_cluster              -0.012063        0.002089              -0.014050   \n",
       "\n",
       "                           user_location_region  user_location_city  \\\n",
       "site_name                              0.163428            0.001760   \n",
       "posa_continent                        -0.079464            0.025726   \n",
       "user_location_country                  0.042852            0.113983   \n",
       "user_location_region                   1.000000            0.129766   \n",
       "user_location_city                     0.129766            1.000000   \n",
       "orig_destination_distance              0.133761            0.014661   \n",
       "srch_destination_id                    0.016076           -0.000681   \n",
       "srch_destination_type_id               0.009383            0.000359   \n",
       "is_booking                                  NaN                 NaN   \n",
       "cnt                                   -0.006459           -0.001980   \n",
       "hotel_continent                        0.072771            0.010582   \n",
       "hotel_country                         -0.060106            0.002164   \n",
       "hotel_market                           0.030071            0.002651   \n",
       "hotel_cluster                          0.002792           -0.000628   \n",
       "\n",
       "                           orig_destination_distance  srch_destination_id  \\\n",
       "site_name                                   0.026644             0.029597   \n",
       "posa_continent                              0.026857            -0.005629   \n",
       "user_location_country                       0.037816             0.005689   \n",
       "user_location_region                        0.133761             0.016076   \n",
       "user_location_city                          0.014661            -0.000681   \n",
       "orig_destination_distance                   1.000000            -0.028688   \n",
       "srch_destination_id                        -0.028688             1.000000   \n",
       "srch_destination_type_id                   -0.027779             0.426388   \n",
       "is_booking                                       NaN                  NaN   \n",
       "cnt                                         0.011110            -0.002098   \n",
       "hotel_continent                             0.437181             0.028016   \n",
       "hotel_country                               0.216675             0.043687   \n",
       "hotel_market                               -0.062817             0.081689   \n",
       "hotel_cluster                               0.021587            -0.001726   \n",
       "\n",
       "                           srch_destination_type_id  is_booking       cnt  \\\n",
       "site_name                                 -0.009038         NaN  0.004404   \n",
       "posa_continent                             0.038719         NaN -0.005987   \n",
       "user_location_country                      0.024697         NaN -0.002128   \n",
       "user_location_region                       0.009383         NaN -0.006459   \n",
       "user_location_city                         0.000359         NaN -0.001980   \n",
       "orig_destination_distance                 -0.027779         NaN  0.011110   \n",
       "srch_destination_id                        0.426388         NaN -0.002098   \n",
       "srch_destination_type_id                   1.000000         NaN -0.005828   \n",
       "is_booking                                      NaN         NaN       NaN   \n",
       "cnt                                       -0.005828         NaN  1.000000   \n",
       "hotel_continent                           -0.019733         NaN  0.006367   \n",
       "hotel_country                             -0.009547         NaN  0.001189   \n",
       "hotel_market                               0.041051         NaN  0.000643   \n",
       "hotel_cluster                             -0.020272         NaN -0.001263   \n",
       "\n",
       "                           hotel_continent  hotel_country  hotel_market  \\\n",
       "site_name                         0.251485       0.293636     -0.061258   \n",
       "posa_continent                   -0.387122      -0.138369      0.045680   \n",
       "user_location_country            -0.058440       0.195702      0.010047   \n",
       "user_location_region              0.072771      -0.060106      0.030071   \n",
       "user_location_city                0.010582       0.002164      0.002651   \n",
       "orig_destination_distance         0.437181       0.216675     -0.062817   \n",
       "srch_destination_id               0.028016       0.043687      0.081689   \n",
       "srch_destination_type_id         -0.019733      -0.009547      0.041051   \n",
       "is_booking                             NaN            NaN           NaN   \n",
       "cnt                               0.006367       0.001189      0.000643   \n",
       "hotel_continent                   1.000000       0.287778     -0.081814   \n",
       "hotel_country                     0.287778       1.000000      0.009767   \n",
       "hotel_market                     -0.081814       0.009767      1.000000   \n",
       "hotel_cluster                    -0.002447      -0.011053      0.035513   \n",
       "\n",
       "                           hotel_cluster  \n",
       "site_name                      -0.012063  \n",
       "posa_continent                  0.002089  \n",
       "user_location_country          -0.014050  \n",
       "user_location_region            0.002792  \n",
       "user_location_city             -0.000628  \n",
       "orig_destination_distance       0.021587  \n",
       "srch_destination_id            -0.001726  \n",
       "srch_destination_type_id       -0.020272  \n",
       "is_booking                           NaN  \n",
       "cnt                            -0.001263  \n",
       "hotel_continent                -0.002447  \n",
       "hotel_country                  -0.011053  \n",
       "hotel_market                    0.035513  \n",
       "hotel_cluster                   1.000000  "
      ]
     },
     "execution_count": 99,
     "metadata": {},
     "output_type": "execute_result"
    }
   ],
   "source": [
    "train[['site_name', 'posa_continent', 'user_location_country',\n",
    "       'user_location_region', 'user_location_city',\n",
    "       'orig_destination_distance',  'srch_destination_id', 'srch_destination_type_id',\n",
    "       'is_booking', 'cnt', 'hotel_continent', 'hotel_country', 'hotel_market','hotel_cluster']].corr()"
   ]
  },
  {
   "cell_type": "code",
   "execution_count": null,
   "id": "animal-chinese",
   "metadata": {
    "collapsed": true
   },
   "outputs": [],
   "source": [
    "'posa_continent','user_location_country','hotel_market'\n"
   ]
  },
  {
   "cell_type": "code",
   "execution_count": 101,
   "id": "comparative-remedy",
   "metadata": {},
   "outputs": [
    {
     "name": "stderr",
     "output_type": "stream",
     "text": [
      "/Users/ycui/opt/anaconda3/lib/python3.7/site-packages/seaborn/distributions.py:2551: FutureWarning: `distplot` is a deprecated function and will be removed in a future version. Please adapt your code to use either `displot` (a figure-level function with similar flexibility) or `histplot` (an axes-level function for histograms).\n",
      "  warnings.warn(msg, FutureWarning)\n"
     ]
    },
    {
     "data": {
      "image/png": "[encoded data removed]",
      "text/plain": [
       "<Figure size 432x288 with 1 Axes>"
      ]
     },
     "metadata": {
      "needs_background": "light"
     },
     "output_type": "display_data"
    },
    {
     "name": "stderr",
     "output_type": "stream",
     "text": [
      "/Users/ycui/opt/anaconda3/lib/python3.7/site-packages/seaborn/distributions.py:2551: FutureWarning: `distplot` is a deprecated function and will be removed in a future version. Please adapt your code to use either `displot` (a figure-level function with similar flexibility) or `histplot` (an axes-level function for histograms).\n",
      "  warnings.warn(msg, FutureWarning)\n"
     ]
    },
    {
     "data": {
      "image/png": "[encoded data removed]",
      "text/plain": [
       "<Figure size 432x288 with 1 Axes>"
      ]
     },
     "metadata": {
      "needs_background": "light"
     },
     "output_type": "display_data"
    },
    {
     "name": "stderr",
     "output_type": "stream",
     "text": [
      "/Users/ycui/opt/anaconda3/lib/python3.7/site-packages/seaborn/distributions.py:2551: FutureWarning: `distplot` is a deprecated function and will be removed in a future version. Please adapt your code to use either `displot` (a figure-level function with similar flexibility) or `histplot` (an axes-level function for histograms).\n",
      "  warnings.warn(msg, FutureWarning)\n"
     ]
    },
    {
     "data": {
      "image/png": "[encoded data removed]",
      "text/plain": [
       "<Figure size 432x288 with 1 Axes>"
      ]
     },
     "metadata": {
      "needs_background": "light"
     },
     "output_type": "display_data"
    },
    {
     "name": "stderr",
     "output_type": "stream",
     "text": [
      "/Users/ycui/opt/anaconda3/lib/python3.7/site-packages/seaborn/distributions.py:2551: FutureWarning: `distplot` is a deprecated function and will be removed in a future version. Please adapt your code to use either `displot` (a figure-level function with similar flexibility) or `histplot` (an axes-level function for histograms).\n",
      "  warnings.warn(msg, FutureWarning)\n"
     ]
    },
    {
     "data": {
      "image/png": "[encoded data removed]",
      "text/plain": [
       "<Figure size 432x288 with 1 Axes>"
      ]
     },
     "metadata": {
      "needs_background": "light"
     },
     "output_type": "display_data"
    },
    {
     "name": "stderr",
     "output_type": "stream",
     "text": [
      "/Users/ycui/opt/anaconda3/lib/python3.7/site-packages/seaborn/distributions.py:2551: FutureWarning: `distplot` is a deprecated function and will be removed in a future version. Please adapt your code to use either `displot` (a figure-level function with similar flexibility) or `histplot` (an axes-level function for histograms).\n",
      "  warnings.warn(msg, FutureWarning)\n"
     ]
    },
    {
     "data": {
      "image/png": "[encoded data removed]",
      "text/plain": [
       "<Figure size 432x288 with 1 Axes>"
      ]
     },
     "metadata": {
      "needs_background": "light"
     },
     "output_type": "display_data"
    },
    {
     "name": "stderr",
     "output_type": "stream",
     "text": [
      "/Users/ycui/opt/anaconda3/lib/python3.7/site-packages/seaborn/distributions.py:2551: FutureWarning: `distplot` is a deprecated function and will be removed in a future version. Please adapt your code to use either `displot` (a figure-level function with similar flexibility) or `histplot` (an axes-level function for histograms).\n",
      "  warnings.warn(msg, FutureWarning)\n"
     ]
    },
    {
     "data": {
      "image/png": "[encoded data removed]",
      "text/plain": [
       "<Figure size 432x288 with 1 Axes>"
      ]
     },
     "metadata": {
      "needs_background": "light"
     },
     "output_type": "display_data"
    },
    {
     "name": "stderr",
     "output_type": "stream",
     "text": [
      "/Users/ycui/opt/anaconda3/lib/python3.7/site-packages/seaborn/distributions.py:2551: FutureWarning: `distplot` is a deprecated function and will be removed in a future version. Please adapt your code to use either `displot` (a figure-level function with similar flexibility) or `histplot` (an axes-level function for histograms).\n",
      "  warnings.warn(msg, FutureWarning)\n"
     ]
    },
    {
     "data": {
      "image/png": "[encoded data removed]",
      "text/plain": [
       "<Figure size 432x288 with 1 Axes>"
      ]
     },
     "metadata": {
      "needs_background": "light"
     },
     "output_type": "display_data"
    },
    {
     "name": "stderr",
     "output_type": "stream",
     "text": [
      "/Users/ycui/opt/anaconda3/lib/python3.7/site-packages/seaborn/distributions.py:2551: FutureWarning: `distplot` is a deprecated function and will be removed in a future version. Please adapt your code to use either `displot` (a figure-level function with similar flexibility) or `histplot` (an axes-level function for histograms).\n",
      "  warnings.warn(msg, FutureWarning)\n"
     ]
    },
    {
     "data": {
      "image/png": "[encoded data removed]",
      "text/plain": [
       "<Figure size 432x288 with 1 Axes>"
      ]
     },
     "metadata": {
      "needs_background": "light"
     },
     "output_type": "display_data"
    },
    {
     "name": "stderr",
     "output_type": "stream",
     "text": [
      "/Users/ycui/opt/anaconda3/lib/python3.7/site-packages/seaborn/distributions.py:2551: FutureWarning: `distplot` is a deprecated function and will be removed in a future version. Please adapt your code to use either `displot` (a figure-level function with similar flexibility) or `histplot` (an axes-level function for histograms).\n",
      "  warnings.warn(msg, FutureWarning)\n",
      "/Users/ycui/opt/anaconda3/lib/python3.7/site-packages/seaborn/distributions.py:305: UserWarning: Dataset has 0 variance; skipping density estimate.\n",
      "  warnings.warn(msg, UserWarning)\n"
     ]
    },
    {
     "data": {
      "image/png": "[encoded data removed]",
      "text/plain": [
       "<Figure size 432x288 with 1 Axes>"
      ]
     },
     "metadata": {
      "needs_background": "light"
     },
     "output_type": "display_data"
    },
    {
     "name": "stderr",
     "output_type": "stream",
     "text": [
      "/Users/ycui/opt/anaconda3/lib/python3.7/site-packages/seaborn/distributions.py:2551: FutureWarning: `distplot` is a deprecated function and will be removed in a future version. Please adapt your code to use either `displot` (a figure-level function with similar flexibility) or `histplot` (an axes-level function for histograms).\n",
      "  warnings.warn(msg, FutureWarning)\n"
     ]
    },
    {
     "data": {
      "image/png": "[encoded data removed]",
      "text/plain": [
       "<Figure size 432x288 with 1 Axes>"
      ]
     },
     "metadata": {
      "needs_background": "light"
     },
     "output_type": "display_data"
    },
    {
     "name": "stderr",
     "output_type": "stream",
     "text": [
      "/Users/ycui/opt/anaconda3/lib/python3.7/site-packages/seaborn/distributions.py:2551: FutureWarning: `distplot` is a deprecated function and will be removed in a future version. Please adapt your code to use either `displot` (a figure-level function with similar flexibility) or `histplot` (an axes-level function for histograms).\n",
      "  warnings.warn(msg, FutureWarning)\n"
     ]
    },
    {
     "data": {
      "image/png": "[encoded data removed]",
      "text/plain": [
       "<Figure size 432x288 with 1 Axes>"
      ]
     },
     "metadata": {
      "needs_background": "light"
     },
     "output_type": "display_data"
    },
    {
     "name": "stderr",
     "output_type": "stream",
     "text": [
      "/Users/ycui/opt/anaconda3/lib/python3.7/site-packages/seaborn/distributions.py:2551: FutureWarning: `distplot` is a deprecated function and will be removed in a future version. Please adapt your code to use either `displot` (a figure-level function with similar flexibility) or `histplot` (an axes-level function for histograms).\n",
      "  warnings.warn(msg, FutureWarning)\n"
     ]
    },
    {
     "data": {
      "image/png": "[encoded data removed]",
      "text/plain": [
       "<Figure size 432x288 with 1 Axes>"
      ]
     },
     "metadata": {
      "needs_background": "light"
     },
     "output_type": "display_data"
    },
    {
     "name": "stderr",
     "output_type": "stream",
     "text": [
      "/Users/ycui/opt/anaconda3/lib/python3.7/site-packages/seaborn/distributions.py:2551: FutureWarning: `distplot` is a deprecated function and will be removed in a future version. Please adapt your code to use either `displot` (a figure-level function with similar flexibility) or `histplot` (an axes-level function for histograms).\n",
      "  warnings.warn(msg, FutureWarning)\n"
     ]
    },
    {
     "data": {
      "image/png": "[encoded data removed]",
      "text/plain": [
       "<Figure size 432x288 with 1 Axes>"
      ]
     },
     "metadata": {
      "needs_background": "light"
     },
     "output_type": "display_data"
    },
    {
     "name": "stderr",
     "output_type": "stream",
     "text": [
      "/Users/ycui/opt/anaconda3/lib/python3.7/site-packages/seaborn/distributions.py:2551: FutureWarning: `distplot` is a deprecated function and will be removed in a future version. Please adapt your code to use either `displot` (a figure-level function with similar flexibility) or `histplot` (an axes-level function for histograms).\n",
      "  warnings.warn(msg, FutureWarning)\n"
     ]
    },
    {
     "data": {
      "image/png": "[encoded data removed]",
      "text/plain": [
       "<Figure size 432x288 with 1 Axes>"
      ]
     },
     "metadata": {
      "needs_background": "light"
     },
     "output_type": "display_data"
    }
   ],
   "source": [
    "for i in ['site_name', 'posa_continent', 'user_location_country',\n",
    "       'user_location_region', 'user_location_city',\n",
    "       'orig_destination_distance',  'srch_destination_id', 'srch_destination_type_id',\n",
    "       'is_booking', 'cnt', 'hotel_continent', 'hotel_country', 'hotel_market','hotel_cluster']:\n",
    "    sns.distplot(train[i])\n",
    "    plt.show()"
   ]
  },
  {
   "cell_type": "code",
   "execution_count": 98,
   "id": "crazy-inspiration",
   "metadata": {},
   "outputs": [
    {
     "data": {
      "text/plain": [
       "<AxesSubplot:>"
      ]
     },
     "execution_count": 98,
     "metadata": {},
     "output_type": "execute_result"
    },
    {
     "data": {
      "image/png": "[encoded data removed]",
      "text/plain": [
       "<Figure size 720x720 with 2 Axes>"
      ]
     },
     "metadata": {
      "needs_background": "light"
     },
     "output_type": "display_data"
    }
   ],
   "source": [
    "plt.figure(figsize=(10,10))\n",
    "sns.heatmap(train[['site_name', 'posa_continent', 'user_location_country',\n",
    "       'user_location_region', 'user_location_city',\n",
    "       'orig_destination_distance',  'srch_destination_id', 'srch_destination_type_id',\n",
    "       'is_booking', 'cnt', 'hotel_continent', 'hotel_country', 'hotel_market','hotel_cluster']].corr())"
   ]
  },
  {
   "cell_type": "code",
   "execution_count": 83,
   "id": "sitting-evaluation",
   "metadata": {},
   "outputs": [],
   "source": [
    "#train=train.drop(['site_name', 'user_location_region', 'user_location_city','is_booking','hotel_continent', 'hotel_country'],axis=1)\n",
    "#test=test.drop(['site_name', 'user_location_region', 'user_location_city','hotel_continent', 'hotel_country'],axis=1)"
   ]
  },
  {
   "cell_type": "code",
   "execution_count": 84,
   "id": "sapphire-heading",
   "metadata": {},
   "outputs": [
    {
     "data": {
      "text/plain": [
       "Index(['date_time', 'posa_continent', 'user_location_country',\n",
       "       'orig_destination_distance', 'user_id', 'is_mobile', 'is_package',\n",
       "       'channel', 'srch_ci', 'srch_co', 'srch_adults_cnt', 'srch_children_cnt',\n",
       "       'srch_rm_cnt', 'srch_destination_id', 'srch_destination_type_id', 'cnt',\n",
       "       'hotel_market', 'hotel_cluster', 'before_ch', 'stay', 'month_ch',\n",
       "       'weekday_ch', 'month', 'weekday'],\n",
       "      dtype='object')"
      ]
     },
     "execution_count": 84,
     "metadata": {},
     "output_type": "execute_result"
    }
   ],
   "source": [
    "train.columns"
   ]
  },
  {
   "cell_type": "code",
   "execution_count": 133,
   "id": "roman-wiring",
   "metadata": {},
   "outputs": [],
   "source": [
    "#train_sample.groupby(['user_id','hotel_cluster']).size().sort_values(ascending=False)\n",
    "users=train['user_id'].unique()[:10000]\n",
    "df=train[train['user_id'].isin(users)]"
   ]
  },
  {
   "cell_type": "code",
   "execution_count": 134,
   "id": "personal-berlin",
   "metadata": {},
   "outputs": [],
   "source": [
    "df=df.sort_values(['date_time'])"
   ]
  },
  {
   "cell_type": "code",
   "execution_count": 69,
   "id": "portuguese-addition",
   "metadata": {},
   "outputs": [],
   "source": [
    "#train=pd.merge(train,destinations,on='srch_destination_id')"
   ]
  },
  {
   "cell_type": "code",
   "execution_count": 70,
   "id": "coordinate-caution",
   "metadata": {},
   "outputs": [],
   "source": [
    "#df=train.sample(frac=0.01)"
   ]
  },
  {
   "cell_type": "code",
   "execution_count": 135,
   "id": "favorite-edwards",
   "metadata": {},
   "outputs": [],
   "source": [
    "import numpy as np\n",
    "from sklearn.model_selection import train_test_split\n",
    "train_sample, test_sample = train_test_split(df, test_size=0.2, shuffle=False)"
   ]
  },
  {
   "cell_type": "code",
   "execution_count": 136,
   "id": "careful-china",
   "metadata": {},
   "outputs": [
    {
     "data": {
      "text/plain": [
       "(Timestamp('2013-01-07 00:22:31'),\n",
       " Timestamp('2014-10-12 12:58:06'),\n",
       " Timestamp('2014-10-12 13:03:00'),\n",
       " Timestamp('2014-12-31 23:08:08'))"
      ]
     },
     "execution_count": 136,
     "metadata": {},
     "output_type": "execute_result"
    }
   ],
   "source": [
    "train_sample['date_time'].min(),train_sample['date_time'].max(),test_sample['date_time'].min(),test_sample['date_time'].max()"
   ]
  },
  {
   "cell_type": "code",
   "execution_count": 15,
   "id": "greatest-democrat",
   "metadata": {},
   "outputs": [
    {
     "data": {
      "text/html": [
       "<div>\n",
       "<style scoped>\n",
       "    .dataframe tbody tr th:only-of-type {\n",
       "        vertical-align: middle;\n",
       "    }\n",
       "\n",
       "    .dataframe tbody tr th {\n",
       "        vertical-align: top;\n",
       "    }\n",
       "\n",
       "    .dataframe thead th {\n",
       "        text-align: right;\n",
       "    }\n",
       "</style>\n",
       "<table border=\"1\" class=\"dataframe\">\n",
       "  <thead>\n",
       "    <tr style=\"text-align: right;\">\n",
       "      <th></th>\n",
       "      <th>srch_destination_id</th>\n",
       "      <th>d1</th>\n",
       "      <th>d2</th>\n",
       "      <th>d3</th>\n",
       "      <th>d4</th>\n",
       "      <th>d5</th>\n",
       "      <th>d6</th>\n",
       "      <th>d7</th>\n",
       "      <th>d8</th>\n",
       "      <th>d9</th>\n",
       "      <th>...</th>\n",
       "      <th>d140</th>\n",
       "      <th>d141</th>\n",
       "      <th>d142</th>\n",
       "      <th>d143</th>\n",
       "      <th>d144</th>\n",
       "      <th>d145</th>\n",
       "      <th>d146</th>\n",
       "      <th>d147</th>\n",
       "      <th>d148</th>\n",
       "      <th>d149</th>\n",
       "    </tr>\n",
       "  </thead>\n",
       "  <tbody>\n",
       "    <tr>\n",
       "      <th>0</th>\n",
       "      <td>0</td>\n",
       "      <td>-2.198657</td>\n",
       "      <td>-2.198657</td>\n",
       "      <td>-2.198657</td>\n",
       "      <td>-2.198657</td>\n",
       "      <td>-2.198657</td>\n",
       "      <td>-1.897627</td>\n",
       "      <td>-2.198657</td>\n",
       "      <td>-2.198657</td>\n",
       "      <td>-1.897627</td>\n",
       "      <td>...</td>\n",
       "      <td>-2.198657</td>\n",
       "      <td>-2.198657</td>\n",
       "      <td>-2.198657</td>\n",
       "      <td>-2.198657</td>\n",
       "      <td>-2.198657</td>\n",
       "      <td>-2.198657</td>\n",
       "      <td>-2.198657</td>\n",
       "      <td>-2.198657</td>\n",
       "      <td>-2.198657</td>\n",
       "      <td>-2.198657</td>\n",
       "    </tr>\n",
       "    <tr>\n",
       "      <th>1</th>\n",
       "      <td>1</td>\n",
       "      <td>-2.181690</td>\n",
       "      <td>-2.181690</td>\n",
       "      <td>-2.181690</td>\n",
       "      <td>-2.082564</td>\n",
       "      <td>-2.181690</td>\n",
       "      <td>-2.165028</td>\n",
       "      <td>-2.181690</td>\n",
       "      <td>-2.181690</td>\n",
       "      <td>-2.031597</td>\n",
       "      <td>...</td>\n",
       "      <td>-2.165028</td>\n",
       "      <td>-2.181690</td>\n",
       "      <td>-2.165028</td>\n",
       "      <td>-2.181690</td>\n",
       "      <td>-2.181690</td>\n",
       "      <td>-2.165028</td>\n",
       "      <td>-2.181690</td>\n",
       "      <td>-2.181690</td>\n",
       "      <td>-2.181690</td>\n",
       "      <td>-2.181690</td>\n",
       "    </tr>\n",
       "    <tr>\n",
       "      <th>2</th>\n",
       "      <td>2</td>\n",
       "      <td>-2.183490</td>\n",
       "      <td>-2.224164</td>\n",
       "      <td>-2.224164</td>\n",
       "      <td>-2.189562</td>\n",
       "      <td>-2.105819</td>\n",
       "      <td>-2.075407</td>\n",
       "      <td>-2.224164</td>\n",
       "      <td>-2.118483</td>\n",
       "      <td>-2.140393</td>\n",
       "      <td>...</td>\n",
       "      <td>-2.224164</td>\n",
       "      <td>-2.224164</td>\n",
       "      <td>-2.196379</td>\n",
       "      <td>-2.224164</td>\n",
       "      <td>-2.192009</td>\n",
       "      <td>-2.224164</td>\n",
       "      <td>-2.224164</td>\n",
       "      <td>-2.224164</td>\n",
       "      <td>-2.224164</td>\n",
       "      <td>-2.057548</td>\n",
       "    </tr>\n",
       "    <tr>\n",
       "      <th>3</th>\n",
       "      <td>3</td>\n",
       "      <td>-2.177409</td>\n",
       "      <td>-2.177409</td>\n",
       "      <td>-2.177409</td>\n",
       "      <td>-2.177409</td>\n",
       "      <td>-2.177409</td>\n",
       "      <td>-2.115485</td>\n",
       "      <td>-2.177409</td>\n",
       "      <td>-2.177409</td>\n",
       "      <td>-2.177409</td>\n",
       "      <td>...</td>\n",
       "      <td>-2.161081</td>\n",
       "      <td>-2.177409</td>\n",
       "      <td>-2.177409</td>\n",
       "      <td>-2.177409</td>\n",
       "      <td>-2.177409</td>\n",
       "      <td>-2.177409</td>\n",
       "      <td>-2.177409</td>\n",
       "      <td>-2.177409</td>\n",
       "      <td>-2.177409</td>\n",
       "      <td>-2.177409</td>\n",
       "    </tr>\n",
       "    <tr>\n",
       "      <th>4</th>\n",
       "      <td>4</td>\n",
       "      <td>-2.189562</td>\n",
       "      <td>-2.187783</td>\n",
       "      <td>-2.194008</td>\n",
       "      <td>-2.171153</td>\n",
       "      <td>-2.152303</td>\n",
       "      <td>-2.056618</td>\n",
       "      <td>-2.194008</td>\n",
       "      <td>-2.194008</td>\n",
       "      <td>-2.145911</td>\n",
       "      <td>...</td>\n",
       "      <td>-2.187356</td>\n",
       "      <td>-2.194008</td>\n",
       "      <td>-2.191779</td>\n",
       "      <td>-2.194008</td>\n",
       "      <td>-2.194008</td>\n",
       "      <td>-2.185161</td>\n",
       "      <td>-2.194008</td>\n",
       "      <td>-2.194008</td>\n",
       "      <td>-2.194008</td>\n",
       "      <td>-2.188037</td>\n",
       "    </tr>\n",
       "  </tbody>\n",
       "</table>\n",
       "<p>5 rows × 150 columns</p>\n",
       "</div>"
      ],
      "text/plain": [
       "   srch_destination_id        d1        d2        d3        d4        d5  \\\n",
       "0                    0 -2.198657 -2.198657 -2.198657 -2.198657 -2.198657   \n",
       "1                    1 -2.181690 -2.181690 -2.181690 -2.082564 -2.181690   \n",
       "2                    2 -2.183490 -2.224164 -2.224164 -2.189562 -2.105819   \n",
       "3                    3 -2.177409 -2.177409 -2.177409 -2.177409 -2.177409   \n",
       "4                    4 -2.189562 -2.187783 -2.194008 -2.171153 -2.152303   \n",
       "\n",
       "         d6        d7        d8        d9  ...      d140      d141      d142  \\\n",
       "0 -1.897627 -2.198657 -2.198657 -1.897627  ... -2.198657 -2.198657 -2.198657   \n",
       "1 -2.165028 -2.181690 -2.181690 -2.031597  ... -2.165028 -2.181690 -2.165028   \n",
       "2 -2.075407 -2.224164 -2.118483 -2.140393  ... -2.224164 -2.224164 -2.196379   \n",
       "3 -2.115485 -2.177409 -2.177409 -2.177409  ... -2.161081 -2.177409 -2.177409   \n",
       "4 -2.056618 -2.194008 -2.194008 -2.145911  ... -2.187356 -2.194008 -2.191779   \n",
       "\n",
       "       d143      d144      d145      d146      d147      d148      d149  \n",
       "0 -2.198657 -2.198657 -2.198657 -2.198657 -2.198657 -2.198657 -2.198657  \n",
       "1 -2.181690 -2.181690 -2.165028 -2.181690 -2.181690 -2.181690 -2.181690  \n",
       "2 -2.224164 -2.192009 -2.224164 -2.224164 -2.224164 -2.224164 -2.057548  \n",
       "3 -2.177409 -2.177409 -2.177409 -2.177409 -2.177409 -2.177409 -2.177409  \n",
       "4 -2.194008 -2.194008 -2.185161 -2.194008 -2.194008 -2.194008 -2.188037  \n",
       "\n",
       "[5 rows x 150 columns]"
      ]
     },
     "execution_count": 15,
     "metadata": {},
     "output_type": "execute_result"
    }
   ],
   "source": [
    "destinations.head()"
   ]
  },
  {
   "cell_type": "code",
   "execution_count": 137,
   "id": "dedicated-sleeve",
   "metadata": {},
   "outputs": [
    {
     "data": {
      "text/plain": [
       "Index(['date_time', 'site_name', 'posa_continent', 'user_location_country',\n",
       "       'user_location_region', 'user_location_city',\n",
       "       'orig_destination_distance', 'user_id', 'is_mobile', 'is_package',\n",
       "       'channel', 'srch_ci', 'srch_co', 'srch_adults_cnt', 'srch_children_cnt',\n",
       "       'srch_rm_cnt', 'srch_destination_id', 'srch_destination_type_id',\n",
       "       'is_booking', 'cnt', 'hotel_continent', 'hotel_country', 'hotel_market',\n",
       "       'hotel_cluster', 'before_ch', 'stay', 'month_ch', 'weekday_ch', 'month',\n",
       "       'weekday', 'quarter', 'day'],\n",
       "      dtype='object')"
      ]
     },
     "execution_count": 137,
     "metadata": {},
     "output_type": "execute_result"
    }
   ],
   "source": [
    "train_sample.columns"
   ]
  },
  {
   "cell_type": "code",
   "execution_count": 141,
   "id": "cooperative-membership",
   "metadata": {},
   "outputs": [],
   "source": [
    "1*',a'+1*',b'+0.1*',a'"
   ]
  },
  {
   "cell_type": "code",
   "execution_count": 154,
   "id": "sharing-oxide",
   "metadata": {},
   "outputs": [
    {
     "data": {
      "text/plain": [
       "is_booking\n",
       "0    1.0\n",
       "1    NaN\n",
       "Name: 17, dtype: float64"
      ]
     },
     "execution_count": 154,
     "metadata": {},
     "output_type": "execute_result"
    }
   ],
   "source": [
    "m=train_sample[:10].groupby(['hotel_cluster','is_booking']).size().unstack(1)\n",
    "m.loc[17]"
   ]
  },
  {
   "cell_type": "code",
   "execution_count": null,
   "id": "immediate-brake",
   "metadata": {},
   "outputs": [],
   "source": []
  },
  {
   "cell_type": "code",
   "execution_count": 202,
   "id": "innovative-understanding",
   "metadata": {},
   "outputs": [],
   "source": [
    "def fun(data):\n",
    "    a=data.groupby(['hotel_cluster','is_booking']).size().unstack(1).fillna(0)\n",
    "    \n",
    "    eq={}\n",
    "    for i,row in a.iterrows():\n",
    "        \n",
    "        w=0\n",
    "        if 0 in row.index:\n",
    "            w+=row[0]\n",
    "        if 1 in row.index:\n",
    "            w+=10*row[1]\n",
    "        \n",
    "        eq[str(i)]=str(w)\n",
    "    return eq\n",
    "    \n",
    "        \n",
    "        "
   ]
  },
  {
   "cell_type": "code",
   "execution_count": 205,
   "id": "recent-bhutan",
   "metadata": {},
   "outputs": [],
   "source": [
    "u_d_map=train_sample.groupby(['user_id','srch_destination_id']).apply(fun)\n",
    "d_map=train_sample.groupby(['srch_destination_id']).apply(fun)\n",
    "u_map=train_sample.groupby(['user_id']).apply(fun)"
   ]
  },
  {
   "cell_type": "code",
   "execution_count": 207,
   "id": "administrative-crack",
   "metadata": {},
   "outputs": [],
   "source": [
    "train_sample=train_sample[train_sample['is_booking']==1]\n",
    "test_sample=test_sample[test_sample['is_booking']==1]"
   ]
  },
  {
   "cell_type": "code",
   "execution_count": 208,
   "id": "interracial-cologne",
   "metadata": {},
   "outputs": [
    {
     "name": "stdout",
     "output_type": "stream",
     "text": [
      "CPU times: user 6.01 s, sys: 143 ms, total: 6.15 s\n",
      "Wall time: 1.14 s\n"
     ]
    }
   ],
   "source": [
    "%%time\n",
    "from sklearn.experimental import enable_iterative_imputer\n",
    "from sklearn.impute import IterativeImputer\n",
    "imp = IterativeImputer(max_iter=10, random_state=0)\n",
    "train_sample_imp=imp.fit_transform(train_sample.drop(['hotel_cluster',\n",
    "    'date_time',  'srch_ci', 'srch_co'],axis=1))\n",
    "#from autoimpute.imputations import MultipleImputer\n",
    "test_sample_imp=imp.transform(test_sample.drop(['hotel_cluster',\n",
    "    'date_time',  'srch_ci', 'srch_co'],axis=1))"
   ]
  },
  {
   "cell_type": "code",
   "execution_count": 73,
   "id": "outside-consortium",
   "metadata": {},
   "outputs": [
    {
     "data": {
      "text/plain": [
       "Index(['site_name', 'posa_continent', 'user_location_country',\n",
       "       'user_location_region', 'user_location_city',\n",
       "       'orig_destination_distance', 'user_id', 'is_mobile', 'is_package',\n",
       "       'channel', 'srch_adults_cnt', 'srch_children_cnt', 'srch_rm_cnt',\n",
       "       'srch_destination_id', 'srch_destination_type_id', 'is_booking', 'cnt',\n",
       "       'hotel_continent', 'hotel_country', 'hotel_market', 'before_ch', 'stay',\n",
       "       'month_ch', 'weekday_ch', 'month', 'weekday', 'quarter', 'day'],\n",
       "      dtype='object')"
      ]
     },
     "execution_count": 73,
     "metadata": {},
     "output_type": "execute_result"
    }
   ],
   "source": [
    "train_sample.drop(['hotel_cluster',\n",
    "    'date_time',  'srch_ci', 'srch_co'],axis=1).columns"
   ]
  },
  {
   "cell_type": "code",
   "execution_count": 74,
   "id": "empty-pollution",
   "metadata": {},
   "outputs": [],
   "source": [
    "train_sample_imp=pd.DataFrame(train_sample_imp,columns=['site_name', 'posa_continent', 'user_location_country',\n",
    "       'user_location_region', 'user_location_city',\n",
    "       'orig_destination_distance', 'user_id', 'is_mobile', 'is_package',\n",
    "       'channel', 'srch_adults_cnt', 'srch_children_cnt', 'srch_rm_cnt',\n",
    "       'srch_destination_id', 'srch_destination_type_id', 'is_booking', 'cnt',\n",
    "       'hotel_continent', 'hotel_country', 'hotel_market', 'before_ch', 'stay',\n",
    "       'month_ch', 'weekday_ch', 'month', 'weekday', 'quarter', 'day'])\n",
    "\n",
    "test_sample_imp=pd.DataFrame(test_sample_imp,columns=['site_name', 'posa_continent', 'user_location_country',\n",
    "       'user_location_region', 'user_location_city',\n",
    "       'orig_destination_distance', 'user_id', 'is_mobile', 'is_package',\n",
    "       'channel', 'srch_adults_cnt', 'srch_children_cnt', 'srch_rm_cnt',\n",
    "       'srch_destination_id', 'srch_destination_type_id', 'is_booking', 'cnt',\n",
    "       'hotel_continent', 'hotel_country', 'hotel_market', 'before_ch', 'stay',\n",
    "       'month_ch', 'weekday_ch', 'month', 'weekday', 'quarter', 'day'])\n"
   ]
  },
  {
   "cell_type": "code",
   "execution_count": 23,
   "id": "medieval-family",
   "metadata": {},
   "outputs": [
    {
     "data": {
      "text/plain": [
       "91    0.040315\n",
       "48    0.028452\n",
       "42    0.024369\n",
       "59    0.022198\n",
       "28    0.021321\n",
       "16    0.018888\n",
       "18    0.018549\n",
       "95    0.018371\n",
       "50    0.018132\n",
       "82    0.018102\n",
       "Name: hotel_cluster, dtype: float64"
      ]
     },
     "execution_count": 23,
     "metadata": {},
     "output_type": "execute_result"
    }
   ],
   "source": [
    "(train['hotel_cluster'].value_counts()/len(train))[:10]"
   ]
  },
  {
   "cell_type": "code",
   "execution_count": 17,
   "id": "incorporated-dictionary",
   "metadata": {},
   "outputs": [
    {
     "data": {
      "text/plain": [
       "Index(['date_time', 'site_name', 'posa_continent', 'user_location_country',\n",
       "       'user_location_region', 'user_location_city',\n",
       "       'orig_destination_distance', 'user_id', 'is_mobile', 'is_package',\n",
       "       'channel', 'srch_ci', 'srch_co', 'srch_adults_cnt', 'srch_children_cnt',\n",
       "       'srch_rm_cnt', 'srch_destination_id', 'srch_destination_type_id',\n",
       "       'is_booking', 'cnt', 'hotel_continent', 'hotel_country', 'hotel_market',\n",
       "       'hotel_cluster', 'before_ch', 'stay', 'month_ch', 'weekday_ch', 'month',\n",
       "       'weekday'],\n",
       "      dtype='object')"
      ]
     },
     "execution_count": 17,
     "metadata": {},
     "output_type": "execute_result"
    }
   ],
   "source": [
    "train_sample.columns"
   ]
  },
  {
   "cell_type": "code",
   "execution_count": 18,
   "id": "invalid-wednesday",
   "metadata": {},
   "outputs": [],
   "source": [
    "import xgboost\n",
    "from sklearn.model_selection import cross_val_score\n",
    "from xgboost import XGBClassifier\n",
    "from sklearn.ensemble import RandomForestClassifier\n",
    "#xgb_cv = XGBClassifier(n_estimators=100, n_jobs=10)\n",
    "#rf=RandomForestClassifier(n_estimators=100, random_state=0,n_jobs=10)\n",
    "from catboost import CatBoostClassifier\n",
    "\n",
    "clf = CatBoostClassifier(\n",
    "    #iterations=100, \n",
    "    learning_rate=0.1, \n",
    "    silent=True,\n",
    "    cat_features=['site_name','posa_continent', 'user_location_country','user_location_region', 'user_location_city',\n",
    "      'hotel_market', 'user_id', 'hotel_continent', 'hotel_country']\n",
    "    \n",
    ")\n",
    "\n"
   ]
  },
  {
   "cell_type": "code",
   "execution_count": 19,
   "id": "nasty-perspective",
   "metadata": {},
   "outputs": [
    {
     "ename": "SyntaxError",
     "evalue": "positional argument follows keyword argument (4144412428.py, line 28)",
     "output_type": "error",
     "traceback": [
      "\u001b[0;36m  File \u001b[0;32m\"/var/folders/76/28rs82j10fbfg6vkbsz8q9vcwr9335/T/ipykernel_59957/4144412428.py\"\u001b[0;36m, line \u001b[0;32m28\u001b[0m\n\u001b[0;31m    subsample\u001b[0m\n\u001b[0m    ^\u001b[0m\n\u001b[0;31mSyntaxError\u001b[0m\u001b[0;31m:\u001b[0m positional argument follows keyword argument\n"
     ]
    }
   ],
   "source": [
    "CatBoostClassifier(\n",
    "    iterations=None,\n",
    "    learning_rate=None,\n",
    "    depth=None,\n",
    "    l2_leaf_reg=None,\n",
    "    model_size_reg=None,\n",
    "    rsm=None,\n",
    "    loss_function=None,\n",
    "    od_pval=None,\n",
    "    od_wait=None,\n",
    "    od_type=None,\n",
    "    thread_count=None,\n",
    "    random_seed=None,\n",
    "    verbose=None,\n",
    "    silent=None,\n",
    "    classes_count=None,\n",
    "    class_weights=None,\n",
    "    one_hot_max_size=None,\n",
    "    max_depth=None,\n",
    "    n_estimators=None,\n",
    "    colsample_bylevel=None,\n",
    "    reg_lambda=None,\n",
    "    objective=None,\n",
    "    early_stopping_rounds=None,\n",
    "    cat_features=None,\n",
    "    min_data_in_leaf=None,\n",
    "    min_child_samples=None,\n",
    "    subsample\n",
    " \n",
    "    \n",
    ")"
   ]
  },
  {
   "cell_type": "code",
   "execution_count": 20,
   "id": "korean-colombia",
   "metadata": {},
   "outputs": [
    {
     "data": {
      "text/plain": [
       "GridSearchCV(cv=3,\n",
       "             estimator=<catboost.core.CatBoostClassifier object at 0x7fe3c0c44810>,\n",
       "             param_grid=[{'n_estimators': [100]}], scoring='accuracy')"
      ]
     },
     "execution_count": 20,
     "metadata": {},
     "output_type": "execute_result"
    }
   ],
   "source": [
    "from sklearn.model_selection import GridSearchCV\n",
    "tuned_parameters = [{'n_estimators': [100]}]\n",
    "                    \n",
    "\n",
    "\n",
    "grd = GridSearchCV(clf, tuned_parameters, scoring='accuracy',cv=3)\n",
    "#grd.fit(X_train, y_train)\n",
    "grd.fit(train_sample.drop(['date_time','srch_ci','srch_co','hotel_cluster'],axis=1), train_sample['hotel_cluster'])"
   ]
  },
  {
   "cell_type": "code",
   "execution_count": 21,
   "id": "blind-shannon",
   "metadata": {
    "scrolled": false
   },
   "outputs": [
    {
     "data": {
      "text/plain": [
       "{'mean_fit_time': array([3470.376707]),\n",
       " 'std_fit_time': array([191.2464187]),\n",
       " 'mean_score_time': array([0.39434338]),\n",
       " 'std_score_time': array([0.05388292]),\n",
       " 'param_n_estimators': masked_array(data=[100],\n",
       "              mask=[False],\n",
       "        fill_value='?',\n",
       "             dtype=object),\n",
       " 'params': [{'n_estimators': 100}],\n",
       " 'split0_test_score': array([0.14075825]),\n",
       " 'split1_test_score': array([0.14644337]),\n",
       " 'split2_test_score': array([0.13771491]),\n",
       " 'mean_test_score': array([0.14163884]),\n",
       " 'std_test_score': array([0.00361737]),\n",
       " 'rank_test_score': array([1], dtype=int32)}"
      ]
     },
     "execution_count": 21,
     "metadata": {},
     "output_type": "execute_result"
    }
   ],
   "source": [
    "grd.cv_results_"
   ]
  },
  {
   "cell_type": "code",
   "execution_count": 27,
   "id": "peripheral-doubt",
   "metadata": {},
   "outputs": [
    {
     "data": {
      "text/plain": [
       "array([16,  2, 25, 94, 72, 26,  4,  5, 11, 91, 23, 99, 68, 18, 19, 40, 48,\n",
       "       50, 73, 15, 97, 53, 90, 69, 64, 75, 85, 28, 21, 13, 29, 63, 54, 88,\n",
       "       33, 76, 95, 70, 46,  6, 77, 12, 32, 10,  1, 47,  9, 37, 67, 59, 17,\n",
       "        8, 30, 82,  7, 35, 36, 58, 57, 98, 83, 61, 62, 31, 56, 14, 51, 42,\n",
       "       44,  0, 24, 39, 22, 96, 38, 55, 43, 49, 34, 81, 41,  3, 89, 93, 66,\n",
       "       78, 86, 20, 45, 60, 65, 79, 84, 80, 71, 87, 92, 74, 27, 52])"
      ]
     },
     "execution_count": 27,
     "metadata": {},
     "output_type": "execute_result"
    }
   ],
   "source": [
    "test_sample['hotel_cluster'].unique()"
   ]
  },
  {
   "cell_type": "code",
   "execution_count": 39,
   "id": "personalized-torture",
   "metadata": {},
   "outputs": [],
   "source": [
    "pro=pd.DataFrame(grd.predict_proba(test_sample.drop(['date_time','srch_ci','srch_co','hotel_cluster'],axis=1)))\n"
   ]
  },
  {
   "cell_type": "code",
   "execution_count": 44,
   "id": "nearby-portsmouth",
   "metadata": {},
   "outputs": [],
   "source": [
    "#pro\n",
    "predictions=pro.apply(lambda s, n: list(s.nlargest(n).index), axis=1, n=5)"
   ]
  },
  {
   "cell_type": "code",
   "execution_count": null,
   "id": "dying-reason",
   "metadata": {},
   "outputs": [],
   "source": [
    "# a=train_sample.sample(frac=0.5,random_state=1).groupby(['user_id','srch_destination_id','hotel_market','hotel_cluster']).size().unstack().fillna(0)\n",
    "# b=train_sample.sample(frac=0.5,random_state=100).groupby(['user_id','srch_destination_id','hotel_market','hotel_cluster']).size().unstack().fillna(0)\n",
    "# c=train_sample.sample(frac=0.5,random_state=44).groupby(['user_id','srch_destination_id','hotel_market','hotel_cluster']).size().unstack().fillna(0)\n",
    "# d=train_sample.sample(frac=0.5,random_state=18).groupby(['user_id','srch_destination_id','hotel_market','hotel_cluster']).size().unstack().fillna(0)\n",
    "\n",
    "\n",
    "# e=a.add(b,fill_value=0).add(c,fill_value=0).add(d,fill_value=0)"
   ]
  },
  {
   "cell_type": "code",
   "execution_count": 124,
   "id": "early-league",
   "metadata": {},
   "outputs": [
    {
     "data": {
      "text/html": [
       "<div>\n",
       "<style scoped>\n",
       "    .dataframe tbody tr th:only-of-type {\n",
       "        vertical-align: middle;\n",
       "    }\n",
       "\n",
       "    .dataframe tbody tr th {\n",
       "        vertical-align: top;\n",
       "    }\n",
       "\n",
       "    .dataframe thead th {\n",
       "        text-align: right;\n",
       "    }\n",
       "</style>\n",
       "<table border=\"1\" class=\"dataframe\">\n",
       "  <thead>\n",
       "    <tr style=\"text-align: right;\">\n",
       "      <th>hotel_cluster</th>\n",
       "      <th>user_id</th>\n",
       "      <th>srch_destination_id</th>\n",
       "      <th>hotel_market</th>\n",
       "      <th>0</th>\n",
       "      <th>1</th>\n",
       "      <th>2</th>\n",
       "      <th>3</th>\n",
       "      <th>4</th>\n",
       "      <th>5</th>\n",
       "      <th>6</th>\n",
       "      <th>...</th>\n",
       "      <th>90</th>\n",
       "      <th>91</th>\n",
       "      <th>92</th>\n",
       "      <th>93</th>\n",
       "      <th>94</th>\n",
       "      <th>95</th>\n",
       "      <th>96</th>\n",
       "      <th>97</th>\n",
       "      <th>98</th>\n",
       "      <th>99</th>\n",
       "    </tr>\n",
       "  </thead>\n",
       "  <tbody>\n",
       "    <tr>\n",
       "      <th>0</th>\n",
       "      <td>1000262.0</td>\n",
       "      <td>12618.0</td>\n",
       "      <td>19.0</td>\n",
       "      <td>0.0</td>\n",
       "      <td>0.0</td>\n",
       "      <td>0.0</td>\n",
       "      <td>0.0</td>\n",
       "      <td>0.0</td>\n",
       "      <td>0.0</td>\n",
       "      <td>0.0</td>\n",
       "      <td>...</td>\n",
       "      <td>0.0</td>\n",
       "      <td>0.0</td>\n",
       "      <td>0.0</td>\n",
       "      <td>0.0</td>\n",
       "      <td>0.0</td>\n",
       "      <td>0.0</td>\n",
       "      <td>0.0</td>\n",
       "      <td>0.0</td>\n",
       "      <td>0.0</td>\n",
       "      <td>0.0</td>\n",
       "    </tr>\n",
       "    <tr>\n",
       "      <th>1</th>\n",
       "      <td>1000262.0</td>\n",
       "      <td>23300.0</td>\n",
       "      <td>10.0</td>\n",
       "      <td>0.0</td>\n",
       "      <td>0.0</td>\n",
       "      <td>0.0</td>\n",
       "      <td>0.0</td>\n",
       "      <td>0.0</td>\n",
       "      <td>0.0</td>\n",
       "      <td>0.0</td>\n",
       "      <td>...</td>\n",
       "      <td>0.0</td>\n",
       "      <td>0.0</td>\n",
       "      <td>0.0</td>\n",
       "      <td>0.0</td>\n",
       "      <td>0.0</td>\n",
       "      <td>0.0</td>\n",
       "      <td>0.0</td>\n",
       "      <td>0.0</td>\n",
       "      <td>0.0</td>\n",
       "      <td>0.0</td>\n",
       "    </tr>\n",
       "    <tr>\n",
       "      <th>2</th>\n",
       "      <td>1000262.0</td>\n",
       "      <td>30337.0</td>\n",
       "      <td>10.0</td>\n",
       "      <td>0.0</td>\n",
       "      <td>0.0</td>\n",
       "      <td>0.0</td>\n",
       "      <td>0.0</td>\n",
       "      <td>0.0</td>\n",
       "      <td>0.0</td>\n",
       "      <td>0.0</td>\n",
       "      <td>...</td>\n",
       "      <td>0.0</td>\n",
       "      <td>0.0</td>\n",
       "      <td>0.0</td>\n",
       "      <td>0.0</td>\n",
       "      <td>0.0</td>\n",
       "      <td>0.0</td>\n",
       "      <td>0.0</td>\n",
       "      <td>0.0</td>\n",
       "      <td>0.0</td>\n",
       "      <td>0.0</td>\n",
       "    </tr>\n",
       "    <tr>\n",
       "      <th>3</th>\n",
       "      <td>1000262.0</td>\n",
       "      <td>8803.0</td>\n",
       "      <td>69.0</td>\n",
       "      <td>0.0</td>\n",
       "      <td>0.0</td>\n",
       "      <td>0.0</td>\n",
       "      <td>0.0</td>\n",
       "      <td>0.0</td>\n",
       "      <td>0.0</td>\n",
       "      <td>0.0</td>\n",
       "      <td>...</td>\n",
       "      <td>0.0</td>\n",
       "      <td>0.0</td>\n",
       "      <td>0.0</td>\n",
       "      <td>0.0</td>\n",
       "      <td>0.0</td>\n",
       "      <td>0.0</td>\n",
       "      <td>0.0</td>\n",
       "      <td>0.0</td>\n",
       "      <td>0.0</td>\n",
       "      <td>0.0</td>\n",
       "    </tr>\n",
       "    <tr>\n",
       "      <th>4</th>\n",
       "      <td>1000262.0</td>\n",
       "      <td>8819.0</td>\n",
       "      <td>1242.0</td>\n",
       "      <td>0.0</td>\n",
       "      <td>0.0</td>\n",
       "      <td>0.0</td>\n",
       "      <td>0.0</td>\n",
       "      <td>0.0</td>\n",
       "      <td>0.0</td>\n",
       "      <td>0.0</td>\n",
       "      <td>...</td>\n",
       "      <td>0.0</td>\n",
       "      <td>0.0</td>\n",
       "      <td>0.0</td>\n",
       "      <td>0.0</td>\n",
       "      <td>0.0</td>\n",
       "      <td>0.0</td>\n",
       "      <td>0.0</td>\n",
       "      <td>0.0</td>\n",
       "      <td>0.0</td>\n",
       "      <td>0.0</td>\n",
       "    </tr>\n",
       "    <tr>\n",
       "      <th>...</th>\n",
       "      <td>...</td>\n",
       "      <td>...</td>\n",
       "      <td>...</td>\n",
       "      <td>...</td>\n",
       "      <td>...</td>\n",
       "      <td>...</td>\n",
       "      <td>...</td>\n",
       "      <td>...</td>\n",
       "      <td>...</td>\n",
       "      <td>...</td>\n",
       "      <td>...</td>\n",
       "      <td>...</td>\n",
       "      <td>...</td>\n",
       "      <td>...</td>\n",
       "      <td>...</td>\n",
       "      <td>...</td>\n",
       "      <td>...</td>\n",
       "      <td>...</td>\n",
       "      <td>...</td>\n",
       "      <td>...</td>\n",
       "      <td>...</td>\n",
       "    </tr>\n",
       "    <tr>\n",
       "      <th>56122</th>\n",
       "      <td>other</td>\n",
       "      <td>other</td>\n",
       "      <td>799.0</td>\n",
       "      <td>0.0</td>\n",
       "      <td>0.0</td>\n",
       "      <td>0.0</td>\n",
       "      <td>0.0</td>\n",
       "      <td>0.0</td>\n",
       "      <td>0.0</td>\n",
       "      <td>0.0</td>\n",
       "      <td>...</td>\n",
       "      <td>0.0</td>\n",
       "      <td>0.0</td>\n",
       "      <td>0.0</td>\n",
       "      <td>0.0</td>\n",
       "      <td>0.0</td>\n",
       "      <td>0.0</td>\n",
       "      <td>0.0</td>\n",
       "      <td>0.0</td>\n",
       "      <td>0.0</td>\n",
       "      <td>0.0</td>\n",
       "    </tr>\n",
       "    <tr>\n",
       "      <th>56123</th>\n",
       "      <td>other</td>\n",
       "      <td>other</td>\n",
       "      <td>849.0</td>\n",
       "      <td>0.0</td>\n",
       "      <td>0.0</td>\n",
       "      <td>0.0</td>\n",
       "      <td>0.0</td>\n",
       "      <td>0.0</td>\n",
       "      <td>0.0</td>\n",
       "      <td>0.0</td>\n",
       "      <td>...</td>\n",
       "      <td>0.0</td>\n",
       "      <td>0.0</td>\n",
       "      <td>0.0</td>\n",
       "      <td>0.0</td>\n",
       "      <td>0.0</td>\n",
       "      <td>0.0</td>\n",
       "      <td>0.0</td>\n",
       "      <td>0.0</td>\n",
       "      <td>0.0</td>\n",
       "      <td>0.0</td>\n",
       "    </tr>\n",
       "    <tr>\n",
       "      <th>56124</th>\n",
       "      <td>other</td>\n",
       "      <td>other</td>\n",
       "      <td>857.0</td>\n",
       "      <td>0.0</td>\n",
       "      <td>0.0</td>\n",
       "      <td>0.0</td>\n",
       "      <td>0.0</td>\n",
       "      <td>0.0</td>\n",
       "      <td>0.0</td>\n",
       "      <td>0.0</td>\n",
       "      <td>...</td>\n",
       "      <td>0.0</td>\n",
       "      <td>0.0</td>\n",
       "      <td>0.0</td>\n",
       "      <td>0.0</td>\n",
       "      <td>0.0</td>\n",
       "      <td>0.0</td>\n",
       "      <td>0.0</td>\n",
       "      <td>0.0</td>\n",
       "      <td>0.0</td>\n",
       "      <td>0.0</td>\n",
       "    </tr>\n",
       "    <tr>\n",
       "      <th>56125</th>\n",
       "      <td>other</td>\n",
       "      <td>other</td>\n",
       "      <td>974.0</td>\n",
       "      <td>0.0</td>\n",
       "      <td>0.0</td>\n",
       "      <td>0.0</td>\n",
       "      <td>0.0</td>\n",
       "      <td>0.0</td>\n",
       "      <td>0.0</td>\n",
       "      <td>0.0</td>\n",
       "      <td>...</td>\n",
       "      <td>0.0</td>\n",
       "      <td>0.0</td>\n",
       "      <td>0.0</td>\n",
       "      <td>0.0</td>\n",
       "      <td>0.0</td>\n",
       "      <td>0.0</td>\n",
       "      <td>0.0</td>\n",
       "      <td>0.0</td>\n",
       "      <td>0.0</td>\n",
       "      <td>0.0</td>\n",
       "    </tr>\n",
       "    <tr>\n",
       "      <th>56126</th>\n",
       "      <td>other</td>\n",
       "      <td>other</td>\n",
       "      <td>other</td>\n",
       "      <td>0.0</td>\n",
       "      <td>0.0</td>\n",
       "      <td>0.0</td>\n",
       "      <td>0.0</td>\n",
       "      <td>0.0</td>\n",
       "      <td>0.0</td>\n",
       "      <td>0.0</td>\n",
       "      <td>...</td>\n",
       "      <td>0.0</td>\n",
       "      <td>2.0</td>\n",
       "      <td>0.0</td>\n",
       "      <td>0.0</td>\n",
       "      <td>0.0</td>\n",
       "      <td>0.0</td>\n",
       "      <td>0.0</td>\n",
       "      <td>0.0</td>\n",
       "      <td>0.0</td>\n",
       "      <td>0.0</td>\n",
       "    </tr>\n",
       "  </tbody>\n",
       "</table>\n",
       "<p>56127 rows × 103 columns</p>\n",
       "</div>"
      ],
      "text/plain": [
       "hotel_cluster    user_id srch_destination_id hotel_market    0    1    2    3  \\\n",
       "0              1000262.0             12618.0         19.0  0.0  0.0  0.0  0.0   \n",
       "1              1000262.0             23300.0         10.0  0.0  0.0  0.0  0.0   \n",
       "2              1000262.0             30337.0         10.0  0.0  0.0  0.0  0.0   \n",
       "3              1000262.0              8803.0         69.0  0.0  0.0  0.0  0.0   \n",
       "4              1000262.0              8819.0       1242.0  0.0  0.0  0.0  0.0   \n",
       "...                  ...                 ...          ...  ...  ...  ...  ...   \n",
       "56122              other               other        799.0  0.0  0.0  0.0  0.0   \n",
       "56123              other               other        849.0  0.0  0.0  0.0  0.0   \n",
       "56124              other               other        857.0  0.0  0.0  0.0  0.0   \n",
       "56125              other               other        974.0  0.0  0.0  0.0  0.0   \n",
       "56126              other               other        other  0.0  0.0  0.0  0.0   \n",
       "\n",
       "hotel_cluster    4    5    6  ...   90   91   92   93   94   95   96   97  \\\n",
       "0              0.0  0.0  0.0  ...  0.0  0.0  0.0  0.0  0.0  0.0  0.0  0.0   \n",
       "1              0.0  0.0  0.0  ...  0.0  0.0  0.0  0.0  0.0  0.0  0.0  0.0   \n",
       "2              0.0  0.0  0.0  ...  0.0  0.0  0.0  0.0  0.0  0.0  0.0  0.0   \n",
       "3              0.0  0.0  0.0  ...  0.0  0.0  0.0  0.0  0.0  0.0  0.0  0.0   \n",
       "4              0.0  0.0  0.0  ...  0.0  0.0  0.0  0.0  0.0  0.0  0.0  0.0   \n",
       "...            ...  ...  ...  ...  ...  ...  ...  ...  ...  ...  ...  ...   \n",
       "56122          0.0  0.0  0.0  ...  0.0  0.0  0.0  0.0  0.0  0.0  0.0  0.0   \n",
       "56123          0.0  0.0  0.0  ...  0.0  0.0  0.0  0.0  0.0  0.0  0.0  0.0   \n",
       "56124          0.0  0.0  0.0  ...  0.0  0.0  0.0  0.0  0.0  0.0  0.0  0.0   \n",
       "56125          0.0  0.0  0.0  ...  0.0  0.0  0.0  0.0  0.0  0.0  0.0  0.0   \n",
       "56126          0.0  0.0  0.0  ...  0.0  2.0  0.0  0.0  0.0  0.0  0.0  0.0   \n",
       "\n",
       "hotel_cluster   98   99  \n",
       "0              0.0  0.0  \n",
       "1              0.0  0.0  \n",
       "2              0.0  0.0  \n",
       "3              0.0  0.0  \n",
       "4              0.0  0.0  \n",
       "...            ...  ...  \n",
       "56122          0.0  0.0  \n",
       "56123          0.0  0.0  \n",
       "56124          0.0  0.0  \n",
       "56125          0.0  0.0  \n",
       "56126          0.0  0.0  \n",
       "\n",
       "[56127 rows x 103 columns]"
      ]
     },
     "execution_count": 124,
     "metadata": {},
     "output_type": "execute_result"
    }
   ],
   "source": []
  },
  {
   "cell_type": "code",
   "execution_count": 57,
   "id": "hollywood-listing",
   "metadata": {},
   "outputs": [],
   "source": [
    "target=[[i] for i in test_sample['hotel_cluster'].values]"
   ]
  },
  {
   "cell_type": "code",
   "execution_count": 58,
   "id": "amazing-requirement",
   "metadata": {},
   "outputs": [
    {
     "data": {
      "text/plain": [
       "0.23339041095890412"
      ]
     },
     "execution_count": 58,
     "metadata": {},
     "output_type": "execute_result"
    }
   ],
   "source": [
    "import ml_metrics as metrics\n",
    "metrics.mapk(target,predictions, k=5)"
   ]
  },
  {
   "cell_type": "code",
   "execution_count": 75,
   "id": "british-oklahoma",
   "metadata": {},
   "outputs": [],
   "source": [
    "train_sample=pd.concat([train_sample_imp,train_sample[['hotel_cluster','date_time',  'srch_ci', 'srch_co']].reset_index(drop=True)],axis=1)\n",
    "test_sample=pd.concat([test_sample_imp,test_sample[['hotel_cluster','date_time',  'srch_ci', 'srch_co']].reset_index(drop=True)],axis=1)"
   ]
  },
  {
   "cell_type": "code",
   "execution_count": 77,
   "id": "impossible-condition",
   "metadata": {},
   "outputs": [],
   "source": [
    "#import tffm\n",
    "#! pip install tffm\n",
    "#! pip install tffm"
   ]
  },
  {
   "cell_type": "code",
   "execution_count": 31,
   "id": "grave-authentication",
   "metadata": {
    "collapsed": true
   },
   "outputs": [],
   "source": [
    "# scores = cross_val_score(clf, train_sample.drop(['date_time','user_id','srch_ci','srch_co','hotel_cluster'],axis=1), train_sample['hotel_cluster'], cv=3, scoring = \"accuracy\")\n",
    "\n",
    "# print(\"Scores:\", scores)\n",
    "# print(\"Mean:\", scores.mean())\n",
    "# print(\"Standard Deviation:\", scores.std())"
   ]
  },
  {
   "cell_type": "code",
   "execution_count": 32,
   "id": "missing-rough",
   "metadata": {
    "collapsed": true
   },
   "outputs": [],
   "source": [
    "# #%spark.pyspark\n",
    "\n",
    "# import pandas as pd\n",
    "# from pyspark.sql.types import StructType, StructField, NumericType\n",
    "# from pyspark.sql import SparkSession\n",
    "# spark = SparkSession \\\n",
    "#     .builder \\\n",
    "#     .appName('Expedia') \\\n",
    "#     .getOrCreate()\n",
    "\n"
   ]
  },
  {
   "cell_type": "code",
   "execution_count": 15,
   "id": "particular-amateur",
   "metadata": {
    "collapsed": true
   },
   "outputs": [],
   "source": [
    "#train_sample = spark.createDataFrame(train_sample)"
   ]
  },
  {
   "cell_type": "code",
   "execution_count": 78,
   "id": "spiritual-billy",
   "metadata": {},
   "outputs": [
    {
     "data": {
      "text/plain": [
       "Index(['site_name', 'posa_continent', 'user_location_country',\n",
       "       'user_location_region', 'user_location_city',\n",
       "       'orig_destination_distance', 'user_id', 'is_mobile', 'is_package',\n",
       "       'channel', 'srch_adults_cnt', 'srch_children_cnt', 'srch_rm_cnt',\n",
       "       'srch_destination_id', 'srch_destination_type_id', 'is_booking', 'cnt',\n",
       "       'hotel_continent', 'hotel_country', 'hotel_market', 'before_ch', 'stay',\n",
       "       'month_ch', 'weekday_ch', 'month', 'weekday', 'quarter', 'day',\n",
       "       'hotel_cluster', 'date_time', 'srch_ci', 'srch_co'],\n",
       "      dtype='object')"
      ]
     },
     "execution_count": 78,
     "metadata": {},
     "output_type": "execute_result"
    }
   ],
   "source": [
    "train_sample.columns"
   ]
  },
  {
   "cell_type": "code",
   "execution_count": 81,
   "id": "dominant-louis",
   "metadata": {},
   "outputs": [],
   "source": [
    "train_sample[['site_name','posa_continent', 'user_location_country','user_location_region', 'user_location_city',\n",
    "    'user_id', 'channel',  'srch_destination_id', 'srch_destination_type_id',  'hotel_market']]=train_sample[[\n",
    "    'site_name','posa_continent', 'user_location_country','user_location_region', 'user_location_city',\n",
    "    'user_id', 'channel',  'srch_destination_id', 'srch_destination_type_id',  'hotel_market']].astype(str)"
   ]
  },
  {
   "cell_type": "code",
   "execution_count": 82,
   "id": "lucky-minneapolis",
   "metadata": {},
   "outputs": [],
   "source": [
    "test_sample[['site_name','posa_continent', 'user_location_country','user_location_region', 'user_location_city',\n",
    "    'user_id', 'channel',  'srch_destination_id', 'srch_destination_type_id',  'hotel_market']]=test_sample[[\n",
    "    'site_name','posa_continent', 'user_location_country','user_location_region', 'user_location_city',\n",
    "    'user_id', 'channel',  'srch_destination_id', 'srch_destination_type_id',  'hotel_market']].astype(str)"
   ]
  },
  {
   "cell_type": "code",
   "execution_count": 115,
   "id": "aging-contract",
   "metadata": {},
   "outputs": [
    {
     "data": {
      "text/plain": [
       "site_name                       33\n",
       "posa_continent                   5\n",
       "user_location_country          146\n",
       "user_location_region           602\n",
       "user_location_city            4652\n",
       "orig_destination_distance    77829\n",
       "user_id                       8369\n",
       "is_mobile                        2\n",
       "is_package                       2\n",
       "channel                         11\n",
       "srch_adults_cnt                 10\n",
       "srch_children_cnt               10\n",
       "srch_rm_cnt                      9\n",
       "srch_destination_id           5211\n",
       "srch_destination_type_id         8\n",
       "is_booking                       1\n",
       "cnt                              8\n",
       "hotel_continent                  6\n",
       "hotel_country                  178\n",
       "hotel_market                  1636\n",
       "before_ch                      396\n",
       "stay                            28\n",
       "month_ch                        12\n",
       "weekday_ch                       7\n",
       "month                           12\n",
       "weekday                          7\n",
       "quarter                          4\n",
       "day                             31\n",
       "hotel_cluster                  100\n",
       "date_time                    87240\n",
       "srch_ci                        832\n",
       "srch_co                        834\n",
       "pca_1                            0\n",
       "pca_2                            0\n",
       "pca_3                            0\n",
       "dtype: int64"
      ]
     },
     "execution_count": 115,
     "metadata": {},
     "output_type": "execute_result"
    }
   ],
   "source": [
    "train_sample.nunique()"
   ]
  },
  {
   "cell_type": "code",
   "execution_count": 118,
   "id": "considerable-temple",
   "metadata": {},
   "outputs": [],
   "source": [
    "for i in ['posa_continent',  'user_location_city',\n",
    "    'user_id', 'channel',  'srch_destination_id', 'srch_destination_type_id',  'hotel_market']:\n",
    "    grp=train_sample.groupby([i]).size().rename('count').reset_index()\n",
    "    l=grp[grp['count']>2][i]\n",
    "    train_sample[i]=np.where(train_sample[i].isin(l),train_sample[i],'other')\n",
    "    test_sample[i]=np.where(test_sample[i].isin(l),test_sample[i],'other')"
   ]
  },
  {
   "cell_type": "code",
   "execution_count": 119,
   "id": "demanding-probability",
   "metadata": {},
   "outputs": [],
   "source": [
    "train_sample_cat=pd.get_dummies(train_sample[['posa_continent',  'user_location_city',\n",
    "    'user_id', 'channel',  'srch_destination_id', 'srch_destination_type_id',  'hotel_market']])\n",
    "test_sample_cat=pd.get_dummies(test_sample[['posa_continent',  'user_location_city',\n",
    "    'user_id', 'channel',  'srch_destination_id', 'srch_destination_type_id',  'hotel_market']])"
   ]
  },
  {
   "cell_type": "code",
   "execution_count": 85,
   "id": "martial-shuttle",
   "metadata": {},
   "outputs": [],
   "source": []
  },
  {
   "cell_type": "code",
   "execution_count": 30,
   "id": "covered-chemical",
   "metadata": {},
   "outputs": [
    {
     "data": {
      "text/plain": [
       "Index(['posa_continent', 'user_location_country', 'orig_destination_distance',\n",
       "       'user_id', 'is_mobile', 'is_package', 'channel', 'srch_adults_cnt',\n",
       "       'srch_children_cnt', 'srch_rm_cnt', 'srch_destination_id',\n",
       "       'srch_destination_type_id', 'cnt', 'hotel_market', 'before_ch', 'stay',\n",
       "       'month_ch', 'weekday_ch', 'month', 'weekday', 'hotel_cluster',\n",
       "       'date_time', 'srch_ci', 'srch_co'],\n",
       "      dtype='object')"
      ]
     },
     "execution_count": 30,
     "metadata": {},
     "output_type": "execute_result"
    }
   ],
   "source": [
    "train_sample.columns"
   ]
  },
  {
   "cell_type": "code",
   "execution_count": 31,
   "id": "invalid-huntington",
   "metadata": {},
   "outputs": [],
   "source": [
    "# train = (spark.read\n",
    "#           .format(\"csv\")\n",
    "#           .option('header', 'true')\n",
    "#           .load('./Downloads/expedia-hotel-recommendations/train.csv'))\n",
    "\n",
    "# test = (spark.read\n",
    "#           .format(\"csv\")\n",
    "#           .option('header', 'true')\n",
    "#           .load('./Downloads/expedia-hotel-recommendations/test.csv'))\n",
    "\n",
    "# destinations = (spark.read\n",
    "#           .format(\"csv\")\n",
    "#           .option('header', 'true')\n",
    "#           .load('./Downloads/expedia-hotel-recommendations/destinations.csv'))\n",
    "\n",
    "\n",
    "# # destinations=pd.read_csv('./Downloads/expedia-hotel-recommendations/destinations.csv')\n",
    "# # train=pd.read_csv('./Downloads/expedia-hotel-recommendations/train.csv')\n",
    "# # test=pd.read_csv('./Downloads/expedia-hotel-recommendations/test.csv')"
   ]
  },
  {
   "cell_type": "code",
   "execution_count": 241,
   "id": "mounted-valuation",
   "metadata": {},
   "outputs": [
    {
     "data": {
      "text/plain": [
       "Index(['srch_destination_id', 'd1', 'd2', 'd3', 'd4', 'd5', 'd6', 'd7', 'd8',\n",
       "       'd9',\n",
       "       ...\n",
       "       'd140', 'd141', 'd142', 'd143', 'd144', 'd145', 'd146', 'd147', 'd148',\n",
       "       'd149'],\n",
       "      dtype='object', length=150)"
      ]
     },
     "execution_count": 241,
     "metadata": {},
     "output_type": "execute_result"
    }
   ],
   "source": [
    "#train.show(10)\n",
    "destinations.columns"
   ]
  },
  {
   "cell_type": "code",
   "execution_count": 93,
   "id": "spanish-fortune",
   "metadata": {},
   "outputs": [
    {
     "name": "stderr",
     "output_type": "stream",
     "text": [
      "/Users/ycui/opt/anaconda3/lib/python3.7/site-packages/seaborn/matrix.py:654: UserWarning: Clustering large matrix with scipy. Installing `fastcluster` may give better performance.\n",
      "  warnings.warn(msg)\n"
     ]
    },
    {
     "data": {
      "text/plain": [
       "<seaborn.matrix.ClusterGrid at 0x7fdc51b644d0>"
      ]
     },
     "execution_count": 93,
     "metadata": {},
     "output_type": "execute_result"
    },
    {
     "data": {
      "text/plain": [
       "<Figure size 720x720 with 0 Axes>"
      ]
     },
     "metadata": {},
     "output_type": "display_data"
    },
    {
     "data": {
      "image/png": "[encoded data removed]",
      "text/plain": [
       "<Figure size 720x720 with 4 Axes>"
      ]
     },
     "metadata": {
      "needs_background": "light"
     },
     "output_type": "display_data"
    }
   ],
   "source": [
    "import seaborn as sns\n",
    "import matplotlib.pyplot as plt\n",
    "plt.figure(figsize=(10,10))\n",
    "sns.clustermap(destinations.corr())"
   ]
  },
  {
   "cell_type": "code",
   "execution_count": 96,
   "id": "sunrise-catering",
   "metadata": {},
   "outputs": [
    {
     "data": {
      "text/plain": [
       "Index(['srch_destination_id', 'd1', 'd2', 'd3', 'd4', 'd5', 'd6', 'd7', 'd8',\n",
       "       'd9',\n",
       "       ...\n",
       "       'd140', 'd141', 'd142', 'd143', 'd144', 'd145', 'd146', 'd147', 'd148',\n",
       "       'd149'],\n",
       "      dtype='object', length=150)"
      ]
     },
     "execution_count": 96,
     "metadata": {},
     "output_type": "execute_result"
    }
   ],
   "source": [
    "destinations.columns"
   ]
  },
  {
   "cell_type": "code",
   "execution_count": 97,
   "id": "afraid-transportation",
   "metadata": {},
   "outputs": [
    {
     "name": "stdout",
     "output_type": "stream",
     "text": [
      "[0.54139786 0.07351881 0.04061735 0.02225059 0.02009661 0.017261\n",
      " 0.01428224 0.01332005 0.01054921 0.00936204 0.00863352 0.0080338\n",
      " 0.00748644 0.0072001  0.00660368 0.00621064 0.00586722 0.00564289\n",
      " 0.00525084 0.00510336]\n"
     ]
    }
   ],
   "source": [
    "from sklearn.decomposition import PCA\n",
    "from sklearn.preprocessing import MinMaxScaler\n",
    "import scipy\n",
    "\n",
    "scaler = MinMaxScaler()\n",
    "dest=scaler.fit_transform(destinations.iloc[:,1:])\n",
    "\n",
    "\n",
    "pca = PCA(n_components=20)\n",
    "pca.fit(dest)\n",
    "\n",
    "print(pca.explained_variance_ratio_)"
   ]
  },
  {
   "cell_type": "code",
   "execution_count": 99,
   "id": "boxed-crime",
   "metadata": {},
   "outputs": [
    {
     "name": "stdout",
     "output_type": "stream",
     "text": [
      "[0.54139786 0.07351881 0.04061735]\n"
     ]
    }
   ],
   "source": [
    "pca = PCA(n_components=3)\n",
    "pca.fit(dest)\n",
    "dest=pca.transform(dest)\n",
    "print(pca.explained_variance_ratio_)"
   ]
  },
  {
   "cell_type": "code",
   "execution_count": 104,
   "id": "interim-treasurer",
   "metadata": {},
   "outputs": [],
   "source": [
    "dest=pd.concat([destinations['srch_destination_id'],pd.DataFrame(dest,columns=['pca_1','pca_2','pca_3'])],axis=1)"
   ]
  },
  {
   "cell_type": "code",
   "execution_count": 108,
   "id": "provincial-spare",
   "metadata": {},
   "outputs": [],
   "source": [
    "dest['srch_destination_id']=dest['srch_destination_id'].map(str)"
   ]
  },
  {
   "cell_type": "code",
   "execution_count": null,
   "id": "million-techno",
   "metadata": {},
   "outputs": [],
   "source": []
  },
  {
   "cell_type": "code",
   "execution_count": 109,
   "id": "neural-notice",
   "metadata": {},
   "outputs": [],
   "source": [
    "train_sample=pd.merge(train_sample,dest,on='srch_destination_id',how='left')\n",
    "test_sample=pd.merge(test_sample,dest,on='srch_destination_id',how='left')"
   ]
  },
  {
   "cell_type": "code",
   "execution_count": 34,
   "id": "apart-designation",
   "metadata": {},
   "outputs": [],
   "source": [
    "# train_sample=pd.merge(train_sample,e,on='user_id',how='left')\n",
    "# test_sample=pd.merge(test_sample,e,on='user_id',how='left')"
   ]
  },
  {
   "cell_type": "code",
   "execution_count": 110,
   "id": "sunrise-parts",
   "metadata": {},
   "outputs": [
    {
     "data": {
      "text/plain": [
       "Index(['site_name', 'posa_continent', 'user_location_country',\n",
       "       'user_location_region', 'user_location_city',\n",
       "       'orig_destination_distance', 'user_id', 'is_mobile', 'is_package',\n",
       "       'channel', 'srch_adults_cnt', 'srch_children_cnt', 'srch_rm_cnt',\n",
       "       'srch_destination_id', 'srch_destination_type_id', 'is_booking', 'cnt',\n",
       "       'hotel_continent', 'hotel_country', 'hotel_market', 'before_ch', 'stay',\n",
       "       'month_ch', 'weekday_ch', 'month', 'weekday', 'quarter', 'day',\n",
       "       'hotel_cluster', 'date_time', 'srch_ci', 'srch_co', 'pca_1', 'pca_2',\n",
       "       'pca_3'],\n",
       "      dtype='object')"
      ]
     },
     "execution_count": 110,
     "metadata": {},
     "output_type": "execute_result"
    }
   ],
   "source": [
    "train_sample.columns"
   ]
  },
  {
   "cell_type": "code",
   "execution_count": 120,
   "id": "whole-complexity",
   "metadata": {},
   "outputs": [],
   "source": [
    "train_sample_cat=pd.concat([train_sample,train_sample_cat.reset_index(drop=True)],axis=1)\n",
    "test_sample_cat=pd.concat([test_sample,test_sample_cat.reset_index(drop=True)],axis=1)"
   ]
  },
  {
   "cell_type": "code",
   "execution_count": null,
   "id": "impressed-london",
   "metadata": {},
   "outputs": [],
   "source": [
    "# import tensorflow as tf\n",
    "# #from tffm import TFFMClassifier\n",
    "# from tffm import TFFMRegressor\n",
    "\n",
    "# #!pip install pandas==0.19.2\n",
    "# #!conda install tensorflow==0.12.1\n",
    "#!pip install numpy==1.12.0\n",
    "#!pip install scikit-learn==0.18.1\n",
    "#!pip install tqdm==4.11.2\n",
    "#!pip install scipy==0.17.0"
   ]
  },
  {
   "cell_type": "code",
   "execution_count": null,
   "id": "southwest-emperor",
   "metadata": {},
   "outputs": [],
   "source": [
    "model = TFFMRegressor(\n",
    "    order=3,\n",
    "    rank=10,\n",
    "    optimizer=tf.train.AdamOptimizer(learning_rate=0.1),\n",
    "    n_epochs=100,\n",
    "    batch_size=-1,\n",
    "    init_std=0.001,\n",
    "    input_type='dense'\n",
    ")\n",
    "\n"
   ]
  },
  {
   "cell_type": "code",
   "execution_count": 121,
   "id": "union-malaysia",
   "metadata": {},
   "outputs": [
    {
     "data": {
      "text/plain": [
       "((21900, 10817), (87596, 15941))"
      ]
     },
     "execution_count": 121,
     "metadata": {},
     "output_type": "execute_result"
    }
   ],
   "source": [
    "test_sample_cat.shape,train_sample_cat.shape"
   ]
  },
  {
   "cell_type": "code",
   "execution_count": 37,
   "id": "drawn-surveillance",
   "metadata": {},
   "outputs": [],
   "source": [
    "#test_sample=test_sample.reindex(columns=train_sample.columns,fill_value=0,)"
   ]
  },
  {
   "cell_type": "code",
   "execution_count": 114,
   "id": "veterinary-headset",
   "metadata": {},
   "outputs": [
    {
     "data": {
      "text/plain": [
       "Index(['site_name', 'posa_continent', 'user_location_country',\n",
       "       'user_location_region', 'user_location_city',\n",
       "       'orig_destination_distance', 'user_id', 'is_mobile', 'is_package',\n",
       "       'channel',\n",
       "       ...\n",
       "       'hotel_market_984.0', 'hotel_market_986.0', 'hotel_market_988.0',\n",
       "       'hotel_market_99.0', 'hotel_market_990.0', 'hotel_market_993.0',\n",
       "       'hotel_market_994.0', 'hotel_market_996.0', 'hotel_market_998.0',\n",
       "       'hotel_market_other'],\n",
       "      dtype='object', length=12582)"
      ]
     },
     "execution_count": 114,
     "metadata": {},
     "output_type": "execute_result"
    }
   ],
   "source": [
    "test_sample_cat.columns"
   ]
  },
  {
   "cell_type": "code",
   "execution_count": 167,
   "id": "pediatric-parish",
   "metadata": {},
   "outputs": [],
   "source": [
    "# model.fit(train_sample.drop(['posa_continent', 'user_location_country',\n",
    "#     'user_id', 'channel',  'srch_destination_id', 'srch_destination_type_id',  'hotel_market','hotel_cluster',\n",
    "#     'date_time',  'srch_ci', 'srch_co'],axis=1), train_sample['hotel_cluster'], show_progress=True)\n",
    "# predictions = model.predict(test_sample.drop(['posa_continent', 'user_location_country',\n",
    "#     'user_id', 'channel',  'srch_destination_id', 'srch_destination_type_id',  'hotel_market','hotel_cluster',\n",
    "#     'date_time',  'srch_ci', 'srch_co'],axis=1))\n",
    "# #cold_start_predictions = model.predict(X_te_cs)\n",
    "# print('MSE: {}'.format(mean_squared_error(test_sample['hotel_cluster'], predictions)))\n",
    "# #print('Cold-start MSE: {}'.format(mean_squared_error(y_te_cs, predictions)))"
   ]
  },
  {
   "cell_type": "code",
   "execution_count": 47,
   "id": "fifth-platform",
   "metadata": {},
   "outputs": [],
   "source": [
    "#! pip install git+https://github.com/coreylynch/pyFM\n"
   ]
  },
  {
   "cell_type": "code",
   "execution_count": 107,
   "id": "cellular-salmon",
   "metadata": {
    "collapsed": true
   },
   "outputs": [],
   "source": [
    "import pyfm"
   ]
  },
  {
   "cell_type": "code",
   "execution_count": 165,
   "id": "appropriate-senegal",
   "metadata": {},
   "outputs": [],
   "source": [
    "# from pyfm import pylibfm\n",
    "\n",
    "# # from sklearn.datasets import make_classification\n",
    "\n",
    "# # X, y = make_classification(n_samples=1000,n_features=100, n_clusters_per_class=1)\n",
    "# # data = [ {v: k for k, v in dict(zip(i, range(len(i)))).items()}  for i in X]\n",
    "\n",
    "# # X_train, X_test, y_train, y_test = train_test_split(data, y, test_size=0.1, random_state=42)\n",
    "\n",
    "# # v = DictVectorizer()\n",
    "# # X_train = v.fit_transform(X_train)\n",
    "# # X_test = v.transform(X_test)\n",
    "\n",
    "# fm = pylibfm.FM(num_factors=50, num_iter=10, verbose=True, task=\"classification\", initial_learning_rate=0.1, learning_rate_schedule=\"optimal\")\n",
    "\n",
    "# model.fit(train_sample.drop(['posa_continent', 'user_location_country',\n",
    "#     'user_id', 'channel',  'srch_destination_id', 'srch_destination_type_id',  'hotel_market','hotel_cluster',\n",
    "#     'date_time',  'srch_ci', 'srch_co'],axis=1), train_sample['hotel_cluster'], show_progress=True)\n",
    "# predictions = model.predict(test_sample.drop(['posa_continent', 'user_location_country',\n",
    "#     'user_id', 'channel',  'srch_destination_id', 'srch_destination_type_id',  'hotel_market','hotel_cluster',\n",
    "#     'date_time',  'srch_ci', 'srch_co'],axis=1))\n",
    "\n",
    "\n",
    "\n"
   ]
  },
  {
   "cell_type": "code",
   "execution_count": 166,
   "id": "taken-outdoors",
   "metadata": {},
   "outputs": [],
   "source": [
    "\n",
    "# from sklearn.metrics import log_loss\n",
    "# print (\"Validation log loss: %.4f\" % log_loss(test_sample['hotel_cluster'],predictions))\n",
    "# Validation log loss: 1.5025"
   ]
  },
  {
   "cell_type": "code",
   "execution_count": 164,
   "id": "alike-fisher",
   "metadata": {},
   "outputs": [],
   "source": [
    "#from tensorflow.examples.tutorials.mnist import input_data\n",
    "#mnist = input_data.read_data_sets(\"/tmp/data/\", one_hot=True)\n",
    "# from sklearn import metrics\n",
    "# import tensorflow as tf\n",
    "\n",
    "# # Parameters\n",
    "# learning_rate = 0.01\n",
    "# num_steps = 8000\n",
    "# batch_size = 256\n",
    "# display_step = 100\n",
    "\n",
    "# # FM Parameters\n",
    "# number_latent = 5\n",
    "# num_input = train_sample.shape[1] # MNIST data input (img shape: 28*28)\n",
    "# num_classes = 100 # MNIST total classes (0-9 digits)\n",
    "\n",
    "# # Regularization terms for W and V matrices\n",
    "# lambda_w = tf.constant(0.0015, name='lambda_w')\n",
    "# lambda_v = tf.constant(0.0015, name='lambda_v')\n",
    "\n",
    "# # tf Graph input\n",
    "# X = tf.placeholder(\"float\", [None, num_input])\n",
    "# Y = tf.placeholder(\"float\", [None, num_classes])\n",
    "\n",
    "# # Store layers weight & bias\n",
    "# weights = {\n",
    "#     'W': tf.Variable(tf.random_normal([num_input, num_classes])),\n",
    "#     'b': tf.Variable(tf.random_normal([num_classes]))\n",
    "# }\n",
    "# interactions = {\n",
    "#     'V': tf.Variable(tf.random_normal([num_input, number_latent, num_classes])),\n",
    "# }\n",
    "\n",
    "# # Create model\n",
    "# def fm(x):\n",
    "#     # Linear terms \n",
    "#     linear_terms = tf.add(tf.matmul(x, weights['W']), weights['b'])\n",
    "#     # Simplification follows: Rendle, 2010 and Rendle, 2012.\n",
    "\n",
    "#     # Squered sum of product (using tensordot as we are having tensors \n",
    "#     # instead of matrices for multiclass classification)\n",
    "#     s1 = tf.pow(\n",
    "#         tf.reduce_sum(\n",
    "#             tf.tensordot(\n",
    "#                 x, \n",
    "#                 interactions['V'], [[1], [0]]\n",
    "#             ), 1\n",
    "#         ), 2)\n",
    "\n",
    "#     # Sum of squared product \n",
    "#     s2 = tf.reduce_sum(\n",
    "#         tf.tensordot(\n",
    "#             tf.pow(x, 2), \n",
    "#             tf.pow(interactions['V'], 2), \n",
    "#             [[1], [0]]\n",
    "#         ), 1)\n",
    "#     outputs = linear_terms + 1/2*(s1-s2)\n",
    "#     return outputs\n",
    "\n",
    "# # Construct model\n",
    "# logits = fm(X)\n",
    "# prediction = tf.nn.softmax(logits)\n",
    "\n",
    "# # Define loss, regularisation, and optimizer\n",
    "# error = tf.reduce_mean(tf.nn.softmax_cross_entropy_with_logits(\n",
    "#     logits=logits, labels=Y))\n",
    "\n",
    "\n",
    "# regularisation = tf.add(tf.reduce_sum(lambda_v * tf.math.abs(interactions['V'])),\n",
    "#                         tf.reduce_sum(lambda_w * tf.pow(weights['W'],2)))\n",
    "# loss_op = error + regularisation\n",
    "# optimizer = tf.train.AdamOptimizer(learning_rate=learning_rate)\n",
    "# train_op = optimizer.minimize(loss_op)\n",
    "\n",
    "# # Evaluate model\n",
    "# correct_pred = tf.equal(tf.argmax(prediction, 1), tf.argmax(Y, 1))\n",
    "# accuracy = tf.reduce_mean(tf.cast(correct_pred, tf.float32))\n",
    "# cm = tf.math.confusion_matrix(tf.argmax(Y, 1), tf.argmax(prediction, 1))\n",
    "\n",
    "# # Initialize the variables (i.e. assign their default value)\n",
    "# init = tf.global_variables_initializer()\n",
    "\n",
    "# # Start training\n",
    "# with tf.Session() as sess:\n",
    "\n",
    "#     # Run the initializer\n",
    "#     sess.run(init)\n",
    "\n",
    "#     for step in range(1, num_steps+1):\n",
    "#         if step%1000 == 0:\n",
    "#             learning_rate = learning_rate/2\n",
    "#         batch = train_sample.next_batch(batch_size)\n",
    "#         # Run optimization op (backprop)\n",
    "#         sess.run(train_op, feed_dict={X: batch.drop(['posa_continent', 'user_location_country',\n",
    "#     'user_id', 'channel',  'srch_destination_id', 'srch_destination_type_id',  'hotel_market','hotel_cluster',\n",
    "#     'date_time',  'srch_ci', 'srch_co'],axis=1), Y: batch['hotel_cluster']})\n",
    "#         if step % display_step == 0 or step == 1:\n",
    "#             # Calculate batch loss and accuracy\n",
    "#             loss, acc = sess.run([error, accuracy], feed_dict={X: batch.drop(['posa_continent', 'user_location_country',\n",
    "#     'user_id', 'channel',  'srch_destination_id', 'srch_destination_type_id',  'hotel_market','hotel_cluster',\n",
    "#     'date_time',  'srch_ci', 'srch_co'],axis=1), Y: batch['hotel_cluster']})\n",
    "\n",
    "#             print(\"Step \" + str(step) + \", Minibatch Loss= \" + \\\n",
    "#                   \"{:.4f}\".format(loss) + \", Training Accuracy= \" + \\\n",
    "#                   \"{:.3f}\".format(acc))\n",
    "\n",
    "#     print(\"Optimization Finished!\")\n",
    "\n",
    "#     # Calculate accuracy for MNIST test images\n",
    "#     print(\"Testing Accuracy:\", sess.run(accuracy, feed_dict={X: test_sample.drop(['posa_continent', 'user_location_country',\n",
    "#     'user_id', 'channel',  'srch_destination_id', 'srch_destination_type_id',  'hotel_market','hotel_cluster',\n",
    "#     'date_time',  'srch_ci', 'srch_co'],axis=1), Y: test_sample['hotel_cluster']}))\n",
    "#     print(\"Testing Confusion Matrix: \\n\", sess.run(cm, feed_dict={X: test_sample.drop(['posa_continent', 'user_location_country',\n",
    "#     'user_id', 'channel',  'srch_destination_id', 'srch_destination_type_id',  'hotel_market','hotel_cluster',\n",
    "#     'date_time',  'srch_ci', 'srch_co'],axis=1), Y: test_sample['hotel_cluster']}))"
   ]
  },
  {
   "cell_type": "code",
   "execution_count": 112,
   "id": "former-annual",
   "metadata": {},
   "outputs": [],
   "source": [
    "import numpy as np\n",
    "#from numba import njit\n",
    "from tqdm import trange\n",
    "from sklearn.base import BaseEstimator, ClassifierMixin\n",
    "\n",
    "\n",
    "class FactorizationMachineClassifier(BaseEstimator, ClassifierMixin):\n",
    "    \"\"\"\n",
    "    Factorization Machine [1]_ using Stochastic Gradient Descent.\n",
    "    For binary classification only.\n",
    "\n",
    "    Parameters\n",
    "    ----------\n",
    "    n_iter : int, default 10\n",
    "        Number of iterations to train the algorithm.\n",
    "\n",
    "    n_factors : int, default 10\n",
    "        Number/dimension of features' latent factors.\n",
    "\n",
    "    learning_rate : float, default 0.1\n",
    "        Learning rate for the gradient descent optimizer.\n",
    "\n",
    "    reg_coef : float, default 0.01\n",
    "        Regularization strength for weights/coefficients.\n",
    "\n",
    "    reg_factors : float, default 0.01\n",
    "        Regularization strength for features' latent factors.\n",
    "\n",
    "    random_state : int, default 1234\n",
    "        Seed for the randomly initialized features latent factors\n",
    "\n",
    "    verbose : bool, default True\n",
    "        Whether to print progress bar while training.\n",
    "\n",
    "    Attributes\n",
    "    ----------\n",
    "    intercept_ : double\n",
    "        Intercept term, w0 based on the original notations.\n",
    "\n",
    "    coef_ : 1d ndarray, shape [n_features,]\n",
    "        Coefficients, w based on the original notations.\n",
    "\n",
    "    feature_factors_ : 2d ndarray, shape [n_factors, n_features]\n",
    "        Latent factors for all features. v based on the original\n",
    "        notations. The learned factors can be viewed as the\n",
    "        embeddings for each features. If a pair of features tends\n",
    "        to co-occur often, then their embeddings should be\n",
    "        close/similar (in terms of cosine similarity) to each other.\n",
    "\n",
    "    history_ : list\n",
    "        Loss function's history at each iteration, useful\n",
    "        for evaluating whether the algorithm converged or not.\n",
    "\n",
    "    References\n",
    "    ----------\n",
    "    .. [1] `S. Rendle Factorization Machines (2010)\n",
    "            <http://www.csie.ntu.edu.tw/~b97053/paper/Rendle2010FM.pdf>`_ \n",
    "    \"\"\"\n",
    "\n",
    "    def __init__(self, n_iter = 10, n_factors = 10,\n",
    "                 learning_rate = 0.1, reg_coef = 0.01,\n",
    "                 reg_factors = 0.01, random_state = 1234, verbose = False):\n",
    "        self.n_iter = n_iter\n",
    "        self.verbose = verbose\n",
    "        self.reg_coef = reg_coef\n",
    "        self.n_factors = n_factors\n",
    "        self.reg_factors = reg_factors\n",
    "        self.random_state = random_state\n",
    "        self.learning_rate = learning_rate\n",
    "\n",
    "    def fit(self, X, y):\n",
    "        \"\"\"\n",
    "        Fit the model to the input data and label.\n",
    "\n",
    "        Parameters\n",
    "        ----------\n",
    "        X : scipy sparse csr_matrix, shape [n_samples, n_features]\n",
    "            Data in sparse matrix format.\n",
    "\n",
    "        y : 1d ndarray, shape [n_samples,]\n",
    "            Training data's corresponding label.\n",
    "\n",
    "        Returns\n",
    "        -------\n",
    "        self\n",
    "        \"\"\"\n",
    "\n",
    "        n_samples, n_features = X.shape\n",
    "        self.coef_ = np.zeros(n_features)\n",
    "        self.intercept_ = 0.0\n",
    "\n",
    "        # the factors are often initialized with a mean of 0 and standard deviation\n",
    "        # of 1 / sqrt(number of latent factor specified)\n",
    "        np.random.seed(self.random_state)\n",
    "        self.feature_factors_ = np.random.normal(\n",
    "            scale = 1 / np.sqrt(self.n_factors), size = (self.n_factors, n_features))\n",
    "        \n",
    "        # the gradient is implemented in a way that requires\n",
    "        # the negative class to be labeled as -1 instead of 0\n",
    "        y = y.copy().astype(np.int32)\n",
    "        y[y == 0] = -1\n",
    "\n",
    "        loop = range(self.n_iter)\n",
    "        if self.verbose:\n",
    "            loop = trange(self.n_iter)\n",
    "\n",
    "        self.history_ = []\n",
    "        for _ in loop:\n",
    "            loss = _sgd_update(X.data, X.indptr, X.indices,\n",
    "                               y, n_samples, n_features,\n",
    "                               self.intercept_, self.coef_,\n",
    "                               self.feature_factors_, self.n_factors,\n",
    "                               self.learning_rate, self.reg_coef, self.reg_factors)\n",
    "            self.history_.append(loss)\n",
    "\n",
    "        return self\n",
    "\n",
    "    def predict_proba(self, X):\n",
    "        \"\"\"\n",
    "        Probability estimates. The returned estimates for\n",
    "        all classes are ordered by the label of classes.\n",
    "\n",
    "        Paramters\n",
    "        ---------\n",
    "        X : scipy sparse csr_matrix, shape [n_samples, n_features]\n",
    "            Data in sparse matrix format.\n",
    "\n",
    "        Returns\n",
    "        -------\n",
    "        proba : 2d ndarray, shape [n_samples, n_classes]\n",
    "            The probability of the sample for each class in the model.\n",
    "        \"\"\"\n",
    "        pred = self._predict(X)\n",
    "        pred_proba = 1.0 / (1.0 + np.exp(-pred))\n",
    "        proba = np.vstack((1 - pred_proba, pred_proba)).T\n",
    "        return proba\n",
    "\n",
    "    def _predict(self, X):\n",
    "        \"\"\"Similar to _predict_instance but vectorized for all samples\"\"\"\n",
    "        linear_output = X * self.coef_\n",
    "        v = self.feature_factors_.T\n",
    "        term = (X * v) ** 2 - (X.power(2) * (v ** 2))\n",
    "        factor_output = 0.5 * np.sum(term, axis = 1)\n",
    "        return self.intercept_ + linear_output + factor_output\n",
    "\n",
    "    def predict(self, X):\n",
    "        \"\"\"\n",
    "        Predict class labels for samples in X.\n",
    "\n",
    "        Parameters\n",
    "        ----------\n",
    "        X : scipy sparse csr_matrix, shape [n_samples, n_features]\n",
    "            Data in sparse matrix format.\n",
    "\n",
    "        Returns\n",
    "        -------\n",
    "        Predicted class label per sample.\n",
    "        \"\"\"\n",
    "        pred_proba = self.predict_proba(X)[:, 1]\n",
    "        return pred_proba.round().astype(np.int)\n",
    "\n",
    "\n",
    "\n",
    "def _sgd_update(data, indptr, indices, y, n_samples, n_features,\n",
    "                w0, w, v, n_factors, learning_rate, reg_w, reg_v):\n",
    "    \"\"\"\n",
    "    Compute the loss of the current iteration and update\n",
    "    gradients accordingly.\n",
    "    \"\"\"\n",
    "    loss = 0.0\n",
    "    for i in range(n_samples):\n",
    "        pred, summed = _predict_instance(data, indptr, indices, w0, w, v, n_factors, i)\n",
    "        \n",
    "        # calculate loss and its gradient\n",
    "        loss += _log_loss(pred, y[i])\n",
    "        loss_gradient = -y[i] / (np.exp(y[i] * pred) + 1.0)\n",
    "    \n",
    "        # update bias/intercept term\n",
    "        w0 -= learning_rate * loss_gradient\n",
    "\n",
    "        # update weight\n",
    "        for index in range(indptr[i], indptr[i + 1]):\n",
    "            feature = indices[index]\n",
    "            w[feature] -= learning_rate * (loss_gradient * data[index] + 2 * reg_w * w[feature])\n",
    "\n",
    "        # update factor\n",
    "        for factor in range(n_factors):\n",
    "            for index in range(indptr[i], indptr[i + 1]):\n",
    "                feature = indices[index]\n",
    "                term = summed[factor] - v[factor, feature] * data[index]\n",
    "                v_gradient = loss_gradient * data[index] * term\n",
    "                v[factor, feature] -= learning_rate * (v_gradient + 2 * reg_v * v[factor, feature])\n",
    "    \n",
    "    loss /= n_samples\n",
    "    return loss\n",
    "\n",
    "\n",
    "\n",
    "def _predict_instance(data, indptr, indices, w0, w, v, n_factors, i):\n",
    "    \"\"\"predicting a single instance\"\"\"\n",
    "    summed = np.zeros(n_factors)\n",
    "    summed_squared = np.zeros(n_factors)\n",
    "\n",
    "    # linear output w * x\n",
    "    pred = w0\n",
    "    for index in range(indptr[i], indptr[i + 1]):\n",
    "        feature = indices[index]\n",
    "        pred += w[feature] * data[index]\n",
    "\n",
    "    # factor output\n",
    "    for factor in range(n_factors):\n",
    "        for index in range(indptr[i], indptr[i + 1]):\n",
    "            feature = indices[index]\n",
    "            term = v[factor, feature] * data[index]\n",
    "            summed[factor] += term\n",
    "            summed_squared[factor] += term * term\n",
    "\n",
    "        pred += 0.5 * (summed[factor] * summed[factor] - summed_squared[factor])\n",
    "    \n",
    "    # summed is the independent term that can be re-used\n",
    "    # during the gradient update stage\n",
    "    return pred, summed\n",
    "\n",
    "\n",
    "\n",
    "def _log_loss(pred, y):\n",
    "    \"\"\"\n",
    "    negative log likelihood of the\n",
    "    current prediction and label, y.\n",
    "    \"\"\"\n",
    "    return np.log(np.exp(-pred * y) + 1.0)"
   ]
  },
  {
   "cell_type": "code",
   "execution_count": 122,
   "id": "committed-passion",
   "metadata": {},
   "outputs": [
    {
     "data": {
      "text/plain": [
       "Index(['site_name', 'posa_continent', 'user_location_country',\n",
       "       'user_location_region', 'user_location_city',\n",
       "       'orig_destination_distance', 'user_id', 'is_mobile', 'is_package',\n",
       "       'channel',\n",
       "       ...\n",
       "       'hotel_market_988.0', 'hotel_market_989.0', 'hotel_market_99.0',\n",
       "       'hotel_market_990.0', 'hotel_market_991.0', 'hotel_market_993.0',\n",
       "       'hotel_market_994.0', 'hotel_market_996.0', 'hotel_market_998.0',\n",
       "       'hotel_market_other'],\n",
       "      dtype='object', length=15941)"
      ]
     },
     "execution_count": 122,
     "metadata": {},
     "output_type": "execute_result"
    }
   ],
   "source": [
    "train_sample_cat.columns"
   ]
  },
  {
   "cell_type": "code",
   "execution_count": 66,
   "id": "organizational-gallery",
   "metadata": {},
   "outputs": [],
   "source": [
    "from sklearn.preprocessing import MinMaxScaler\n",
    "import scipy\n",
    "\n",
    "train_x=np.array(train_sample_cat.drop(['site_name','posa_continent', 'user_location_country','user_location_region', 'user_location_city',\n",
    "    'user_id', 'channel',  'srch_destination_id', 'srch_destination_type_id',  'hotel_market','hotel_cluster',\n",
    "    'date_time',  'srch_ci', 'srch_co'],axis=1).fillna(0))\n",
    "\n",
    "\n",
    "scaler = MinMaxScaler()\n",
    "train_x=scaler.fit_transform(train_x)\n",
    "train_x = scipy.sparse.csr.csr_matrix(train_x, shape=(train_x.shape))\n"
   ]
  },
  {
   "cell_type": "code",
   "execution_count": 67,
   "id": "express-distributor",
   "metadata": {},
   "outputs": [
    {
     "name": "stderr",
     "output_type": "stream",
     "text": [
      "/Users/ycui/opt/anaconda3/lib/python3.7/site-packages/ipykernel_launcher.py:176: RuntimeWarning: overflow encountered in exp\n",
      "/Users/ycui/opt/anaconda3/lib/python3.7/site-packages/ipykernel_launcher.py:231: RuntimeWarning: overflow encountered in exp\n"
     ]
    },
    {
     "data": {
      "text/plain": [
       "FactorizationMachineClassifier(learning_rate=0.01, n_iter=300)"
      ]
     },
     "execution_count": 67,
     "metadata": {},
     "output_type": "execute_result"
    }
   ],
   "source": [
    "fm = FactorizationMachineClassifier(n_iter = 300, learning_rate = 0.01)\n",
    "fm.fit(train_x, train_sample_cat['hotel_cluster'].values)"
   ]
  },
  {
   "cell_type": "code",
   "execution_count": 68,
   "id": "crazy-keeping",
   "metadata": {},
   "outputs": [
    {
     "data": {
      "text/plain": [
       "[inf,\n",
       " inf,\n",
       " 0.016593441672303946,\n",
       " 0.0188251787900034,\n",
       " 0.01703878613583775,\n",
       " 0.021624481745504655,\n",
       " 0.013818984403814969,\n",
       " 0.020617308084627677,\n",
       " inf,\n",
       " 0.020622950427959138,\n",
       " 0.0168264752842885,\n",
       " 0.013861385418319171,\n",
       " 0.01709492694038269,\n",
       " 0.02267120919859599,\n",
       " 0.011175337074472092,\n",
       " inf,\n",
       " inf,\n",
       " 0.01546053407688958,\n",
       " 0.013840425225678715,\n",
       " inf,\n",
       " 0.015613219092875904,\n",
       " 0.018450524881317553,\n",
       " 0.017890307781718698,\n",
       " inf,\n",
       " 0.011949799795817746,\n",
       " inf,\n",
       " inf,\n",
       " 0.011295785443076845,\n",
       " 0.0144831782268316,\n",
       " 0.012993841250897848,\n",
       " inf,\n",
       " 0.011639366950963388,\n",
       " inf,\n",
       " 0.010127216195273792,\n",
       " 0.011672074589388143,\n",
       " inf,\n",
       " 0.010315545995378334,\n",
       " 0.01703125949987622,\n",
       " 0.009659848592167609,\n",
       " inf,\n",
       " inf,\n",
       " 0.010204891419313706,\n",
       " 0.015818191191995262,\n",
       " 0.008420801426245458,\n",
       " 0.011295135426763941,\n",
       " 0.016478309748220066,\n",
       " 0.01098438582838957,\n",
       " inf,\n",
       " 0.007920868004826618,\n",
       " inf,\n",
       " 0.010706552523827434,\n",
       " inf,\n",
       " inf,\n",
       " 0.010675964678073822,\n",
       " inf,\n",
       " 0.013488088669165508,\n",
       " 0.015243133000138704,\n",
       " 0.017540882853590085,\n",
       " 0.020932061400821465,\n",
       " 0.011511376396205694,\n",
       " inf,\n",
       " 0.011388643714547685,\n",
       " inf,\n",
       " 0.006843583797158073,\n",
       " 0.00977999856059741,\n",
       " inf,\n",
       " inf,\n",
       " 0.00980639881405269,\n",
       " inf,\n",
       " 0.007368207670699341,\n",
       " inf,\n",
       " 0.01135450439575463,\n",
       " 0.01411475344168806,\n",
       " 0.017040468745230516,\n",
       " inf,\n",
       " 0.007173307979735206,\n",
       " 0.010476603670175787,\n",
       " 0.018713687148721108,\n",
       " 0.007962380402127349,\n",
       " 0.01275737455866987,\n",
       " inf,\n",
       " 0.015650905554160655,\n",
       " 0.007888415300099521,\n",
       " 0.01090757801000248,\n",
       " 0.0171771507990741,\n",
       " inf,\n",
       " 0.0076318218674202255,\n",
       " 0.018263923455435555,\n",
       " 0.012147855497637193,\n",
       " 0.010026131118534641,\n",
       " inf,\n",
       " 0.011158444436711911,\n",
       " 0.010855656407200216,\n",
       " inf,\n",
       " 0.007741413204193093,\n",
       " 0.011252958807645907,\n",
       " inf,\n",
       " inf,\n",
       " 0.00955307321087001,\n",
       " 0.010502557820303985,\n",
       " inf,\n",
       " inf,\n",
       " 0.01109906372809488,\n",
       " inf,\n",
       " 0.009226838673411192,\n",
       " inf,\n",
       " 0.007367820509094328,\n",
       " 0.010917150952742982,\n",
       " 0.01716917233157422,\n",
       " inf,\n",
       " 0.011444948108145886,\n",
       " 0.014872833069402808,\n",
       " inf,\n",
       " 0.009237419825535517,\n",
       " 0.012625598118542887,\n",
       " inf,\n",
       " 0.01176637905638626,\n",
       " 0.008093922889772811,\n",
       " 0.013222703125835327,\n",
       " 0.010368310964468875,\n",
       " inf,\n",
       " inf,\n",
       " 0.010289755606222065,\n",
       " 0.01092580383906119,\n",
       " 0.007130274037553226,\n",
       " 0.01001613881305147,\n",
       " 0.008173016943718968,\n",
       " 0.015106007870241214,\n",
       " 0.00721459012595346,\n",
       " 0.012355878347431074,\n",
       " inf,\n",
       " 0.008453710683406881,\n",
       " 0.014851899526849703,\n",
       " inf,\n",
       " 0.008090570180420852,\n",
       " 0.00992151768052803,\n",
       " inf,\n",
       " inf,\n",
       " 0.01038676268605652,\n",
       " 0.008961241260513834,\n",
       " 0.012938506649590464,\n",
       " 0.012400888639721946,\n",
       " 0.0071332083538130095,\n",
       " 0.012831028909196025,\n",
       " 0.012264509861203294,\n",
       " inf,\n",
       " 0.007564045818483262,\n",
       " 0.007519805138076704,\n",
       " 0.019400340711689765,\n",
       " inf,\n",
       " inf,\n",
       " 0.01770205018387546,\n",
       " 0.008728699799754342,\n",
       " 0.009573558610675712,\n",
       " inf,\n",
       " 0.009100395121917034,\n",
       " inf,\n",
       " 0.00884855712002945,\n",
       " inf,\n",
       " 0.0072687893079953535,\n",
       " 0.009759005287562498,\n",
       " 0.00896999575700938,\n",
       " 0.009888766152361778,\n",
       " 0.008127881805952922,\n",
       " 0.009715406424467068,\n",
       " 0.009411951151942499,\n",
       " inf,\n",
       " 0.011871069165693063,\n",
       " 0.013196288782762695,\n",
       " 0.010031359316889641,\n",
       " 0.010272336293946176,\n",
       " inf,\n",
       " 0.013471819444928188,\n",
       " 0.008541970052998171,\n",
       " 0.009657436735092893,\n",
       " 0.006740303006284012,\n",
       " 0.009336322034988269,\n",
       " 0.01402006472550039,\n",
       " 0.009082810416475726,\n",
       " 0.009406933756960372,\n",
       " 0.010476689591880708,\n",
       " 0.007832752047041747,\n",
       " inf,\n",
       " 0.011510271565542927,\n",
       " 0.008899282177504608,\n",
       " 0.0088706438061518,\n",
       " 0.009450239967138738,\n",
       " 0.012510573925879368,\n",
       " 0.008082062649473021,\n",
       " 0.007458663665304022,\n",
       " 0.00854937475158533,\n",
       " 0.017338056584450184,\n",
       " inf,\n",
       " 0.007056800096150738,\n",
       " inf,\n",
       " 0.00964386073648701,\n",
       " 0.00813333182844241,\n",
       " 0.009395189047804545,\n",
       " inf,\n",
       " 0.011747719063870612,\n",
       " 0.012032124306890726,\n",
       " 0.006713228094866746,\n",
       " 0.012591747922326332,\n",
       " 0.00989120833048123,\n",
       " 0.009332511964951022,\n",
       " 0.011156584968443614,\n",
       " inf,\n",
       " 0.006506809015475135,\n",
       " 0.008853109831069721,\n",
       " 0.01593959310285232,\n",
       " 0.00894012812340629,\n",
       " 0.01053445122755495,\n",
       " 0.00940883531935749,\n",
       " inf,\n",
       " inf,\n",
       " 0.013261189646577088,\n",
       " 0.014739610098443632,\n",
       " 0.0114465527727055,\n",
       " inf,\n",
       " inf,\n",
       " 0.012838775109447366,\n",
       " 0.0103535067074239,\n",
       " inf,\n",
       " 0.009263254349329012,\n",
       " 0.00962603483538374,\n",
       " 0.009481042904108554,\n",
       " 0.00996366913211779,\n",
       " inf,\n",
       " 0.01094467574242064,\n",
       " 0.009782236208311706,\n",
       " 0.009412878954641787,\n",
       " inf,\n",
       " inf,\n",
       " 0.010725786044938243,\n",
       " 0.010225637840993482,\n",
       " 0.008900428005332105,\n",
       " inf,\n",
       " 0.011560427349300868,\n",
       " inf,\n",
       " 0.007253578185649658,\n",
       " 0.016011914946286114,\n",
       " 0.007743782504001477,\n",
       " inf,\n",
       " 0.007890392074482947,\n",
       " 0.008396171467891154,\n",
       " inf,\n",
       " 0.011256723256896113,\n",
       " 0.017622608698987602,\n",
       " 0.006666491522849913,\n",
       " 0.011631812163447166,\n",
       " 0.006638096484160836,\n",
       " 0.009352078193416005,\n",
       " inf,\n",
       " inf,\n",
       " 0.00864781548873354,\n",
       " 0.010028208265492238,\n",
       " 0.007711151693630688,\n",
       " 0.007008802011743246,\n",
       " 0.009684820618096534,\n",
       " inf,\n",
       " 0.008713312857044976,\n",
       " 0.007383103038946257,\n",
       " 0.00986563506503285,\n",
       " 0.010935920198535988,\n",
       " inf,\n",
       " 0.01104985774034433,\n",
       " 0.00926848332177285,\n",
       " 0.008541426160213993,\n",
       " 0.008978009261508027,\n",
       " inf,\n",
       " 0.007296623399740656,\n",
       " inf,\n",
       " 0.007893338763744427,\n",
       " 0.012751606356454432,\n",
       " 0.005576005762375777,\n",
       " 0.009916544152291035,\n",
       " inf,\n",
       " inf,\n",
       " 0.01028353860240286,\n",
       " 0.005212749453219095,\n",
       " 0.011305291680212371,\n",
       " 0.006490919706113067,\n",
       " 0.0072200692908242,\n",
       " inf,\n",
       " 0.012285022497546812,\n",
       " 0.016255660476219017,\n",
       " 0.011964168303791935,\n",
       " 0.008394352779939185,\n",
       " 0.011928539528014783,\n",
       " 0.005210419373431015,\n",
       " 0.011313481179737022,\n",
       " 0.004906099266863032,\n",
       " 0.008277857011389448,\n",
       " 0.008304177632654206,\n",
       " 0.009012153203344055,\n",
       " 0.00867446619307865,\n",
       " 0.0073224697188276145,\n",
       " 0.013723995748615837,\n",
       " 0.006882196186989322,\n",
       " 0.00926401473876884]"
      ]
     },
     "execution_count": 68,
     "metadata": {},
     "output_type": "execute_result"
    }
   ],
   "source": [
    "fm.history_\n",
    "\n"
   ]
  },
  {
   "cell_type": "code",
   "execution_count": 69,
   "id": "proved-turkey",
   "metadata": {},
   "outputs": [
    {
     "data": {
      "image/png": "[encoded data removed]",
      "text/plain": [
       "<Figure size 576x432 with 1 Axes>"
      ]
     },
     "metadata": {
      "needs_background": "light"
     },
     "output_type": "display_data"
    }
   ],
   "source": [
    "import matplotlib.pyplot as plt\n",
    "%matplotlib inline\n",
    "plt.rcParams['figure.figsize'] = 8, 6\n",
    "plt.rcParams['font.size'] = 12\n",
    "\n",
    "# one quick way to check that we've implemented\n",
    "# the gradient descent is to ensure that the loss\n",
    "# curve is steadily decreasing\n",
    "plt.plot(fm.history_)\n",
    "plt.title('Loss Curve Per Iteration')\n",
    "plt.xlabel('Iterations')\n",
    "plt.ylabel('Loss')\n",
    "plt.show()"
   ]
  },
  {
   "cell_type": "code",
   "execution_count": 70,
   "id": "married-macintosh",
   "metadata": {},
   "outputs": [],
   "source": [
    "test_sample_cat=test_sample_cat.reindex(columns=train_sample_cat.columns,fill_value=0)\n",
    "test_x=np.array(test_sample_cat.drop(['posa_continent', 'user_location_country',\n",
    "    'user_id', 'channel',  'srch_destination_id', 'srch_destination_type_id',  'hotel_market','hotel_cluster',\n",
    "    'date_time',  'srch_ci', 'srch_co'],axis=1).fillna(0))\n",
    "\n",
    "\n",
    "test_x=scaler.transform(test_x)\n",
    "test_x = scipy.sparse.csr.csr_matrix(test_x, shape=(test_x.shape))\n",
    "\n",
    "\n",
    "predictions = fm.predict(test_x)\n",
    "\n",
    "\n"
   ]
  },
  {
   "cell_type": "code",
   "execution_count": 71,
   "id": "durable-communist",
   "metadata": {},
   "outputs": [
    {
     "data": {
      "text/plain": [
       "array([[ 56,  38,   0, ...,   0,   0,   0],\n",
       "       [  0, 203,   0, ...,   0,   0,   0],\n",
       "       [  9, 374,   0, ...,   0,   0,   0],\n",
       "       ...,\n",
       "       [ 18, 259,   0, ...,   0,   0,   0],\n",
       "       [ 15, 407,   0, ...,   0,   0,   0],\n",
       "       [ 13, 283,   0, ...,   0,   0,   0]])"
      ]
     },
     "execution_count": 71,
     "metadata": {},
     "output_type": "execute_result"
    }
   ],
   "source": [
    "from sklearn.metrics import confusion_matrix\n",
    "confusion_matrix(test_sample_cat['hotel_cluster'].values,predictions)"
   ]
  },
  {
   "cell_type": "code",
   "execution_count": 72,
   "id": "framed-cattle",
   "metadata": {},
   "outputs": [
    {
     "name": "stdout",
     "output_type": "stream",
     "text": [
      "              precision    recall  f1-score   support\n",
      "\n",
      "           0       0.04      0.60      0.07        94\n",
      "           1       0.01      1.00      0.02       203\n",
      "           2       0.00      0.00      0.00       383\n",
      "           3       0.00      0.00      0.00        48\n",
      "           4       0.00      0.00      0.00       220\n",
      "           5       0.00      0.00      0.00       362\n",
      "           6       0.00      0.00      0.00       275\n",
      "           7       0.00      0.00      0.00       241\n",
      "           8       0.00      0.00      0.00       118\n",
      "           9       0.00      0.00      0.00       342\n",
      "          10       0.00      0.00      0.00       190\n",
      "          11       0.00      0.00      0.00       265\n",
      "          12       0.00      0.00      0.00        83\n",
      "          13       0.00      0.00      0.00       316\n",
      "          14       0.00      0.00      0.00        94\n",
      "          15       0.00      0.00      0.00       253\n",
      "          16       0.00      0.00      0.00       435\n",
      "          17       0.00      0.00      0.00       152\n",
      "          18       0.00      0.00      0.00       399\n",
      "          19       0.00      0.00      0.00       239\n",
      "          20       0.00      0.00      0.00       119\n",
      "          21       0.00      0.00      0.00       464\n",
      "          22       0.00      0.00      0.00       131\n",
      "          23       0.00      0.00      0.00       107\n",
      "          24       0.00      0.00      0.00        58\n",
      "          25       0.00      0.00      0.00       438\n",
      "          26       0.00      0.00      0.00        85\n",
      "          27       0.00      0.00      0.00        16\n",
      "          28       0.00      0.00      0.00       508\n",
      "          29       0.00      0.00      0.00       340\n",
      "          30       0.00      0.00      0.00       197\n",
      "          31       0.00      0.00      0.00        62\n",
      "          32       0.00      0.00      0.00       263\n",
      "          33       0.00      0.00      0.00       322\n",
      "          34       0.00      0.00      0.00        96\n",
      "          35       0.00      0.00      0.00        34\n",
      "          36       0.00      0.00      0.00       290\n",
      "          37       0.00      0.00      0.00       312\n",
      "          38       0.00      0.00      0.00       134\n",
      "          39       0.00      0.00      0.00       200\n",
      "          40       0.00      0.00      0.00       215\n",
      "          41       0.00      0.00      0.00       431\n",
      "          42       0.00      0.00      0.00       547\n",
      "          43       0.00      0.00      0.00       240\n",
      "          44       0.00      0.00      0.00        79\n",
      "          45       0.00      0.00      0.00        97\n",
      "          46       0.00      0.00      0.00       424\n",
      "          47       0.00      0.00      0.00       272\n",
      "          48       0.00      0.00      0.00       662\n",
      "          49       0.00      0.00      0.00       158\n",
      "          50       0.00      0.00      0.00       346\n",
      "          51       0.00      0.00      0.00       172\n",
      "          52       0.00      0.00      0.00        25\n",
      "          53       0.00      0.00      0.00        51\n",
      "          54       0.00      0.00      0.00       147\n",
      "          55       0.00      0.00      0.00       232\n",
      "          56       0.00      0.00      0.00       216\n",
      "          57       0.00      0.00      0.00        84\n",
      "          58       0.00      0.00      0.00       241\n",
      "          59       0.00      0.00      0.00       476\n",
      "          60       0.00      0.00      0.00        36\n",
      "          61       0.00      0.00      0.00       194\n",
      "          62       0.00      0.00      0.00       307\n",
      "          63       0.00      0.00      0.00       109\n",
      "          64       0.00      0.00      0.00       385\n",
      "          65       0.00      0.00      0.00        61\n",
      "          66       0.00      0.00      0.00        40\n",
      "          67       0.00      0.00      0.00       180\n",
      "          68       0.00      0.00      0.00       344\n",
      "          69       0.00      0.00      0.00       169\n",
      "          70       0.00      0.00      0.00       347\n",
      "          71       0.00      0.00      0.00        52\n",
      "          72       0.00      0.00      0.00       376\n",
      "          73       0.00      0.00      0.00        98\n",
      "          74       0.00      0.00      0.00        21\n",
      "          75       0.00      0.00      0.00       103\n",
      "          76       0.00      0.00      0.00       118\n",
      "          77       0.00      0.00      0.00       282\n",
      "          78       0.00      0.00      0.00       153\n",
      "          79       0.00      0.00      0.00       101\n",
      "          80       0.00      0.00      0.00        45\n",
      "          81       0.00      0.00      0.00       207\n",
      "          82       0.00      0.00      0.00       515\n",
      "          83       0.00      0.00      0.00       231\n",
      "          84       0.00      0.00      0.00        56\n",
      "          85       0.00      0.00      0.00       157\n",
      "          86       0.00      0.00      0.00        68\n",
      "          87       0.00      0.00      0.00        20\n",
      "          88       0.00      0.00      0.00        68\n",
      "          89       0.00      0.00      0.00        41\n",
      "          90       0.00      0.00      0.00       183\n",
      "          91       0.00      0.00      0.00       958\n",
      "          92       0.00      0.00      0.00        45\n",
      "          93       0.00      0.00      0.00        49\n",
      "          94       0.00      0.00      0.00       227\n",
      "          95       0.00      0.00      0.00       449\n",
      "          96       0.00      0.00      0.00       107\n",
      "          97       0.00      0.00      0.00       277\n",
      "          98       0.00      0.00      0.00       422\n",
      "          99       0.00      0.00      0.00       296\n",
      "\n",
      "    accuracy                           0.01     21900\n",
      "   macro avg       0.00      0.02      0.00     21900\n",
      "weighted avg       0.00      0.01      0.00     21900\n",
      "\n"
     ]
    },
    {
     "name": "stderr",
     "output_type": "stream",
     "text": [
      "/Users/ycui/opt/anaconda3/lib/python3.7/site-packages/sklearn/metrics/_classification.py:1248: UndefinedMetricWarning: Precision and F-score are ill-defined and being set to 0.0 in labels with no predicted samples. Use `zero_division` parameter to control this behavior.\n",
      "  _warn_prf(average, modifier, msg_start, len(result))\n",
      "/Users/ycui/opt/anaconda3/lib/python3.7/site-packages/sklearn/metrics/_classification.py:1248: UndefinedMetricWarning: Precision and F-score are ill-defined and being set to 0.0 in labels with no predicted samples. Use `zero_division` parameter to control this behavior.\n",
      "  _warn_prf(average, modifier, msg_start, len(result))\n",
      "/Users/ycui/opt/anaconda3/lib/python3.7/site-packages/sklearn/metrics/_classification.py:1248: UndefinedMetricWarning: Precision and F-score are ill-defined and being set to 0.0 in labels with no predicted samples. Use `zero_division` parameter to control this behavior.\n",
      "  _warn_prf(average, modifier, msg_start, len(result))\n"
     ]
    }
   ],
   "source": [
    "from sklearn.metrics import classification_report\n",
    "print(classification_report(test_sample_cat['hotel_cluster'].values,predictions))"
   ]
  },
  {
   "cell_type": "code",
   "execution_count": 73,
   "id": "black-perry",
   "metadata": {},
   "outputs": [
    {
     "data": {
      "text/plain": [
       "0.011826484018264841"
      ]
     },
     "execution_count": 73,
     "metadata": {},
     "output_type": "execute_result"
    }
   ],
   "source": [
    "sum(test_sample_cat['hotel_cluster']==predictions)/len(predictions)"
   ]
  },
  {
   "cell_type": "code",
   "execution_count": null,
   "id": "substantial-personality",
   "metadata": {},
   "outputs": [],
   "source": []
  }
 ],
 "metadata": {
  "kernelspec": {
   "display_name": "Python 3 (ipykernel)",
   "language": "python",
   "name": "python3"
  },
  "language_info": {
   "codemirror_mode": {
    "name": "ipython",
    "version": 3
   },
   "file_extension": ".py",
   "mimetype": "text/x-python",
   "name": "python",
   "nbconvert_exporter": "python",
   "pygments_lexer": "ipython3",
   "version": "3.7.10"
  }
 },
 "nbformat": 4,
 "nbformat_minor": 5
}
